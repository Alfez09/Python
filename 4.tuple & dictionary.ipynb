{
 "cells": [
  {
   "cell_type": "markdown",
   "id": "743bec2f",
   "metadata": {},
   "source": [
    "# tuple() & dict()"
   ]
  },
  {
   "cell_type": "code",
   "execution_count": null,
   "id": "2580dd4d",
   "metadata": {},
   "outputs": [],
   "source": [
    "t1=(2,5,'alfez','maan','harhsa')"
   ]
  },
  {
   "cell_type": "code",
   "execution_count": null,
   "id": "ffe7843c",
   "metadata": {},
   "outputs": [],
   "source": [
    "print(t1,type(t1))"
   ]
  },
  {
   "cell_type": "code",
   "execution_count": null,
   "id": "34c73548",
   "metadata": {},
   "outputs": [],
   "source": []
  },
  {
   "cell_type": "code",
   "execution_count": null,
   "id": "5b3de704",
   "metadata": {},
   "outputs": [],
   "source": [
    "print([i for i in dir(tuple) if not i.startswith('_')])"
   ]
  },
  {
   "cell_type": "code",
   "execution_count": null,
   "id": "ffe8e774",
   "metadata": {},
   "outputs": [],
   "source": []
  },
  {
   "cell_type": "code",
   "execution_count": null,
   "id": "886c106e",
   "metadata": {},
   "outputs": [],
   "source": [
    "t1"
   ]
  },
  {
   "cell_type": "code",
   "execution_count": null,
   "id": "d0237bc9",
   "metadata": {},
   "outputs": [],
   "source": [
    "t1.count(2)"
   ]
  },
  {
   "cell_type": "code",
   "execution_count": null,
   "id": "46a4020e",
   "metadata": {},
   "outputs": [],
   "source": [
    "t1.index(2)"
   ]
  },
  {
   "cell_type": "markdown",
   "id": "635fb328",
   "metadata": {},
   "source": []
  },
  {
   "cell_type": "code",
   "execution_count": null,
   "id": "c3af3fff",
   "metadata": {},
   "outputs": [],
   "source": []
  },
  {
   "cell_type": "code",
   "execution_count": null,
   "id": "e4ada98e",
   "metadata": {},
   "outputs": [],
   "source": [
    "t1"
   ]
  },
  {
   "cell_type": "code",
   "execution_count": null,
   "id": "79c85d40",
   "metadata": {},
   "outputs": [],
   "source": [
    "t1[2]=56"
   ]
  },
  {
   "cell_type": "code",
   "execution_count": null,
   "id": "03bf7358",
   "metadata": {},
   "outputs": [],
   "source": []
  },
  {
   "cell_type": "code",
   "execution_count": null,
   "id": "989b6db1",
   "metadata": {},
   "outputs": [],
   "source": [
    "t1"
   ]
  },
  {
   "cell_type": "code",
   "execution_count": null,
   "id": "080e7077",
   "metadata": {},
   "outputs": [],
   "source": [
    "list(t1)"
   ]
  },
  {
   "cell_type": "code",
   "execution_count": null,
   "id": "37193481",
   "metadata": {},
   "outputs": [],
   "source": [
    "l2=list(t1)"
   ]
  },
  {
   "cell_type": "code",
   "execution_count": null,
   "id": "73e60552",
   "metadata": {},
   "outputs": [],
   "source": [
    "l2[2]=3"
   ]
  },
  {
   "cell_type": "code",
   "execution_count": null,
   "id": "077014c4",
   "metadata": {},
   "outputs": [],
   "source": [
    "print(l2)"
   ]
  },
  {
   "cell_type": "markdown",
   "id": "f86e9ed0",
   "metadata": {},
   "source": [
    "## dict()"
   ]
  },
  {
   "cell_type": "code",
   "execution_count": null,
   "id": "758ca9eb",
   "metadata": {},
   "outputs": [],
   "source": [
    "d0 ={'name':'alfez','spouse':'single','age':'21','city':'kota'}"
   ]
  },
  {
   "cell_type": "code",
   "execution_count": null,
   "id": "4442f6d5",
   "metadata": {},
   "outputs": [],
   "source": [
    "print(type(d0))"
   ]
  },
  {
   "cell_type": "code",
   "execution_count": null,
   "id": "76fc044a",
   "metadata": {},
   "outputs": [],
   "source": [
    "print([i for i in dir(dict) if not i.startswith('_')])"
   ]
  },
  {
   "cell_type": "code",
   "execution_count": null,
   "id": "7ebff6da",
   "metadata": {},
   "outputs": [],
   "source": []
  },
  {
   "cell_type": "code",
   "execution_count": null,
   "id": "c6c95b89",
   "metadata": {},
   "outputs": [],
   "source": [
    "d0"
   ]
  },
  {
   "cell_type": "code",
   "execution_count": null,
   "id": "c79f4740",
   "metadata": {},
   "outputs": [],
   "source": [
    "d0.keys()"
   ]
  },
  {
   "cell_type": "code",
   "execution_count": null,
   "id": "40221443",
   "metadata": {},
   "outputs": [],
   "source": [
    "d0.update({'state':'rajasthan'})"
   ]
  },
  {
   "cell_type": "code",
   "execution_count": null,
   "id": "32e102a6",
   "metadata": {},
   "outputs": [],
   "source": [
    "d0"
   ]
  },
  {
   "cell_type": "code",
   "execution_count": null,
   "id": "5c729a18",
   "metadata": {},
   "outputs": [],
   "source": [
    "print(d0)"
   ]
  },
  {
   "cell_type": "code",
   "execution_count": null,
   "id": "03c2870d",
   "metadata": {},
   "outputs": [],
   "source": []
  },
  {
   "cell_type": "code",
   "execution_count": null,
   "id": "0bbef722",
   "metadata": {},
   "outputs": [],
   "source": [
    "d0"
   ]
  },
  {
   "cell_type": "code",
   "execution_count": null,
   "id": "434ca310",
   "metadata": {},
   "outputs": [],
   "source": [
    "d0['name'] ='amaan'"
   ]
  },
  {
   "cell_type": "code",
   "execution_count": null,
   "id": "f6c8c336",
   "metadata": {},
   "outputs": [],
   "source": [
    "d0"
   ]
  },
  {
   "cell_type": "code",
   "execution_count": null,
   "id": "70e0907a",
   "metadata": {},
   "outputs": [],
   "source": [
    "print(d0)"
   ]
  },
  {
   "cell_type": "code",
   "execution_count": null,
   "id": "550b5ea6",
   "metadata": {},
   "outputs": [],
   "source": []
  },
  {
   "cell_type": "code",
   "execution_count": null,
   "id": "1c37a0bb",
   "metadata": {},
   "outputs": [],
   "source": [
    "d0"
   ]
  },
  {
   "cell_type": "code",
   "execution_count": null,
   "id": "2bd07eb3",
   "metadata": {},
   "outputs": [],
   "source": [
    "d0.get('city')"
   ]
  },
  {
   "cell_type": "code",
   "execution_count": null,
   "id": "50d8c2ba",
   "metadata": {},
   "outputs": [],
   "source": [
    "print(d0.get('roll no'))"
   ]
  },
  {
   "cell_type": "code",
   "execution_count": null,
   "id": "08c99013",
   "metadata": {},
   "outputs": [],
   "source": [
    "print(d0)"
   ]
  },
  {
   "cell_type": "code",
   "execution_count": null,
   "id": "1532cbf6",
   "metadata": {},
   "outputs": [],
   "source": [
    "d0"
   ]
  },
  {
   "cell_type": "code",
   "execution_count": null,
   "id": "9f8c88b7",
   "metadata": {},
   "outputs": [],
   "source": [
    "d0.items()"
   ]
  },
  {
   "cell_type": "markdown",
   "id": "eab35d41",
   "metadata": {},
   "source": [
    "it changes dic into tuples"
   ]
  },
  {
   "cell_type": "code",
   "execution_count": null,
   "id": "16914fd3",
   "metadata": {},
   "outputs": [],
   "source": [
    "d0"
   ]
  },
  {
   "cell_type": "markdown",
   "id": "df6b45fd",
   "metadata": {},
   "source": [
    "it remove and return the key value pairs"
   ]
  },
  {
   "cell_type": "code",
   "execution_count": null,
   "id": "3435247e",
   "metadata": {
    "scrolled": true
   },
   "outputs": [],
   "source": [
    "d0.pop('spouse')"
   ]
  },
  {
   "cell_type": "code",
   "execution_count": null,
   "id": "7d08a91c",
   "metadata": {},
   "outputs": [],
   "source": []
  },
  {
   "cell_type": "code",
   "execution_count": null,
   "id": "966417b0",
   "metadata": {},
   "outputs": [],
   "source": [
    "print(d0)"
   ]
  },
  {
   "cell_type": "markdown",
   "id": "d33eb5ea",
   "metadata": {},
   "source": [
    "it returns last values from dict"
   ]
  },
  {
   "cell_type": "code",
   "execution_count": null,
   "id": "6bea3698",
   "metadata": {},
   "outputs": [],
   "source": [
    "d0.popitem()"
   ]
  },
  {
   "cell_type": "markdown",
   "id": "f004509c",
   "metadata": {},
   "source": []
  },
  {
   "cell_type": "code",
   "execution_count": null,
   "id": "72fbb5aa",
   "metadata": {},
   "outputs": [],
   "source": [
    "d0"
   ]
  },
  {
   "cell_type": "markdown",
   "id": "61793203",
   "metadata": {},
   "source": [
    "set the keys amd returns values with argument"
   ]
  },
  {
   "cell_type": "code",
   "execution_count": null,
   "id": "3f84c9c8",
   "metadata": {},
   "outputs": [],
   "source": [
    "l01=[45,34,9,56,78]"
   ]
  },
  {
   "cell_type": "code",
   "execution_count": null,
   "id": "61b629da",
   "metadata": {},
   "outputs": [],
   "source": [
    "d0.fromkeys(l01,'group')"
   ]
  },
  {
   "cell_type": "code",
   "execution_count": null,
   "id": "7a0b3935",
   "metadata": {},
   "outputs": [],
   "source": []
  },
  {
   "cell_type": "code",
   "execution_count": null,
   "id": "421529a0",
   "metadata": {},
   "outputs": [],
   "source": [
    "\n",
    " d5={'name': 'alfez',\n",
    " 'spouse': 'single',\n",
    " 'age': '21',\n",
    " 'city': 'kota',\n",
    " 'state': 'rajasthan'}\n"
   ]
  },
  {
   "cell_type": "code",
   "execution_count": null,
   "id": "a0a63875",
   "metadata": {},
   "outputs": [],
   "source": [
    "d5.setdefault('country','russia')"
   ]
  },
  {
   "cell_type": "code",
   "execution_count": null,
   "id": "dc7608e4-57b7-4cc9-bae8-c392062e56a5",
   "metadata": {},
   "outputs": [],
   "source": [
    "d5.setdefault('state')"
   ]
  },
  {
   "cell_type": "code",
   "execution_count": null,
   "id": "8d26f617",
   "metadata": {},
   "outputs": [],
   "source": [
    "print(d5)"
   ]
  },
  {
   "cell_type": "markdown",
   "id": "3a01913c",
   "metadata": {},
   "source": [
    "## nested dict()"
   ]
  },
  {
   "cell_type": "code",
   "execution_count": null,
   "id": "3a561487",
   "metadata": {},
   "outputs": [],
   "source": [
    "nested_dict = {\n",
    "    1:{'name':'aman','age':'25','city':'jaipur'},\n",
    "        2:{'name':'simran','age':'30','city':'jaipur'},\n",
    "          3:{'name':'raaj','age':'26','city':'jaipur'},\n",
    "          4:{'name':'raman','age':'35','city':'jaipur'},\n",
    "         \n",
    " }"
   ]
  },
  {
   "cell_type": "code",
   "execution_count": null,
   "id": "d20541b3",
   "metadata": {},
   "outputs": [],
   "source": [
    "nested_dict[3]"
   ]
  },
  {
   "cell_type": "code",
   "execution_count": null,
   "id": "a51379fa",
   "metadata": {},
   "outputs": [],
   "source": []
  },
  {
   "cell_type": "code",
   "execution_count": null,
   "id": "a806d4cb",
   "metadata": {},
   "outputs": [],
   "source": [
    "nested_dict[3].update({'marks':[12,23,85]})"
   ]
  },
  {
   "cell_type": "code",
   "execution_count": null,
   "id": "68efa25c",
   "metadata": {},
   "outputs": [],
   "source": [
    "print(nested_dict)"
   ]
  },
  {
   "cell_type": "code",
   "execution_count": null,
   "id": "8f2a0685",
   "metadata": {},
   "outputs": [],
   "source": []
  },
  {
   "cell_type": "code",
   "execution_count": null,
   "id": "44715466",
   "metadata": {},
   "outputs": [],
   "source": [
    "nested_dict[1].pop('name')"
   ]
  },
  {
   "cell_type": "code",
   "execution_count": null,
   "id": "02abd3cb",
   "metadata": {},
   "outputs": [],
   "source": [
    "print(nested_dict)"
   ]
  },
  {
   "cell_type": "code",
   "execution_count": null,
   "id": "28d50442",
   "metadata": {},
   "outputs": [],
   "source": []
  },
  {
   "cell_type": "code",
   "execution_count": null,
   "id": "3c9ea462",
   "metadata": {},
   "outputs": [],
   "source": []
  },
  {
   "cell_type": "code",
   "execution_count": null,
   "id": "62ab26c7",
   "metadata": {},
   "outputs": [],
   "source": []
  }
 ],
 "metadata": {
  "kernelspec": {
   "display_name": "Python 3 (ipykernel)",
   "language": "python",
   "name": "python3"
  },
  "language_info": {
   "codemirror_mode": {
    "name": "ipython",
    "version": 3
   },
   "file_extension": ".py",
   "mimetype": "text/x-python",
   "name": "python",
   "nbconvert_exporter": "python",
   "pygments_lexer": "ipython3",
   "version": "3.12.4"
  }
 },
 "nbformat": 4,
 "nbformat_minor": 5
}
