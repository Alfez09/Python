{
 "cells": [
  {
   "cell_type": "markdown",
   "id": "d033dc4c",
   "metadata": {},
   "source": [
    "## while loop"
   ]
  },
  {
   "cell_type": "code",
   "execution_count": 1,
   "id": "8d6a0cf9",
   "metadata": {},
   "outputs": [],
   "source": [
    "a=10"
   ]
  },
  {
   "cell_type": "code",
   "execution_count": 2,
   "id": "d81998ea",
   "metadata": {},
   "outputs": [],
   "source": [
    "b=20"
   ]
  },
  {
   "cell_type": "code",
   "execution_count": 3,
   "id": "2bf2182a",
   "metadata": {},
   "outputs": [
    {
     "name": "stdout",
     "output_type": "stream",
     "text": [
      "hello world\n",
      "hello world\n",
      "hello world\n",
      "hello world\n",
      "hello world\n",
      "hello world\n",
      "hello world\n",
      "hello world\n",
      "hello world\n",
      "hello world\n"
     ]
    }
   ],
   "source": [
    "while a < b:\n",
    "    print('hello world')\n",
    "    a += 1\n"
   ]
  },
  {
   "cell_type": "code",
   "execution_count": null,
   "id": "5931a1d7",
   "metadata": {},
   "outputs": [],
   "source": []
  },
  {
   "cell_type": "markdown",
   "id": "37aa5c16",
   "metadata": {},
   "source": [
    "### If the condition never become false in while loop than you will stuck in infinite loop.That's why it is also called infinite loop\n",
    "### so be careful when you are using while loop.\n"
   ]
  },
  {
   "cell_type": "code",
   "execution_count": null,
   "id": "45af31c8",
   "metadata": {},
   "outputs": [],
   "source": []
  },
  {
   "cell_type": "code",
   "execution_count": 8,
   "id": "55723091",
   "metadata": {},
   "outputs": [
    {
     "name": "stdout",
     "output_type": "stream",
     "text": [
      "Python is awesome\n",
      "Python is awesome\n",
      "Python is awesome\n",
      "Python is awesome\n",
      "Python is awesome\n"
     ]
    }
   ],
   "source": [
    "i = 0\n",
    "\n",
    "while i < 20:\n",
    "    print('Python is awesome')\n",
    "    i += 4"
   ]
  },
  {
   "cell_type": "code",
   "execution_count": null,
   "id": "d6664c33",
   "metadata": {},
   "outputs": [],
   "source": []
  },
  {
   "cell_type": "code",
   "execution_count": 9,
   "id": "382a0edf",
   "metadata": {},
   "outputs": [
    {
     "name": "stdout",
     "output_type": "stream",
     "text": [
      "20\n",
      "15\n",
      "10\n",
      "5\n"
     ]
    }
   ],
   "source": [
    "i = 20\n",
    "\n",
    "while i > 0:\n",
    "    print(i)\n",
    "    i -= 5"
   ]
  },
  {
   "cell_type": "code",
   "execution_count": null,
   "id": "12822c80",
   "metadata": {},
   "outputs": [],
   "source": []
  },
  {
   "cell_type": "code",
   "execution_count": 14,
   "id": "2601120c",
   "metadata": {},
   "outputs": [],
   "source": [
    "ls = [23,45,56,78,90,123,43,657,6]"
   ]
  },
  {
   "cell_type": "code",
   "execution_count": 16,
   "id": "f5034c3b",
   "metadata": {},
   "outputs": [
    {
     "name": "stdout",
     "output_type": "stream",
     "text": [
      "6\n",
      "even\n"
     ]
    }
   ],
   "source": [
    "n=int(input())\n",
    "if  n  %2 ==0:\n",
    "    print('even')\n",
    "else:\n",
    "    print('odd')"
   ]
  },
  {
   "cell_type": "code",
   "execution_count": null,
   "id": "0ab43953",
   "metadata": {},
   "outputs": [],
   "source": []
  },
  {
   "cell_type": "code",
   "execution_count": 17,
   "id": "19552584",
   "metadata": {},
   "outputs": [
    {
     "data": {
      "text/plain": [
       "[23, 45, 56, 78, 90, 123, 43, 657, 6]"
      ]
     },
     "execution_count": 17,
     "metadata": {},
     "output_type": "execute_result"
    }
   ],
   "source": [
    "ls"
   ]
  },
  {
   "cell_type": "code",
   "execution_count": 21,
   "id": "51832186",
   "metadata": {},
   "outputs": [
    {
     "name": "stdout",
     "output_type": "stream",
     "text": [
      "23\n",
      "45\n",
      "56\n",
      "78\n",
      "90\n",
      "123\n",
      "43\n",
      "657\n",
      "6\n"
     ]
    }
   ],
   "source": [
    "i = 0\n",
    "\n",
    "while i < len(ls):\n",
    "    print(ls[i])\n",
    "    i += 1"
   ]
  },
  {
   "cell_type": "code",
   "execution_count": 20,
   "id": "c0b4ba9f",
   "metadata": {},
   "outputs": [
    {
     "data": {
      "text/plain": [
       "[23, 45, 56, 78, 90, 123, 43, 657, 6]"
      ]
     },
     "execution_count": 20,
     "metadata": {},
     "output_type": "execute_result"
    }
   ],
   "source": [
    "ls"
   ]
  },
  {
   "cell_type": "code",
   "execution_count": 25,
   "id": "20efd195",
   "metadata": {},
   "outputs": [
    {
     "name": "stdout",
     "output_type": "stream",
     "text": [
      "11.5\n",
      "22.5\n",
      "28.0\n",
      "39.0\n",
      "45.0\n",
      "61.5\n",
      "21.5\n",
      "328.5\n",
      "3.0\n"
     ]
    }
   ],
   "source": [
    "i=0\n",
    "while i<len (ls):\n",
    "    print(ls[i]/2)\n",
    "    i +=  1"
   ]
  },
  {
   "cell_type": "code",
   "execution_count": null,
   "id": "dc094831",
   "metadata": {},
   "outputs": [],
   "source": []
  },
  {
   "cell_type": "code",
   "execution_count": 26,
   "id": "d9214453",
   "metadata": {},
   "outputs": [
    {
     "name": "stdout",
     "output_type": "stream",
     "text": [
      "11\n",
      "22\n",
      "28\n",
      "39\n",
      "45\n",
      "61\n",
      "21\n",
      "328\n",
      "3\n"
     ]
    }
   ],
   "source": [
    "i=0\n",
    "while i<len (ls):\n",
    "    print(ls[i]//2)\n",
    "    i +=  1"
   ]
  },
  {
   "cell_type": "code",
   "execution_count": null,
   "id": "b5469b2e",
   "metadata": {},
   "outputs": [],
   "source": []
  },
  {
   "cell_type": "code",
   "execution_count": 27,
   "id": "835a1f4b",
   "metadata": {},
   "outputs": [],
   "source": [
    "ls1=[25,36,11,545,9,1,3,6,223,6]"
   ]
  },
  {
   "cell_type": "code",
   "execution_count": 39,
   "id": "398c7e11",
   "metadata": {},
   "outputs": [
    {
     "name": "stdout",
     "output_type": "stream",
     "text": [
      "36 is divisible by 3 and 2\n",
      "11 is divisible by 3 and 2\n",
      "545 is divisible by 3 and 2\n",
      "9 is divisible by 3 and 2\n",
      "3 is divisible by 3 and 2\n",
      "6 is divisible by 3 and 2\n",
      "223 is divisible by 3 and 2\n",
      "6 is divisible by 3 and 2\n"
     ]
    }
   ],
   "source": [
    "i = 0\n",
    "while i < len(ls1):\n",
    "    if ls1[i] % 3 == 0  or ls[i] % 2 ==0:\n",
    "        print(ls1[i], 'is divisible by 3 and 2')\n",
    "    i += 1"
   ]
  },
  {
   "cell_type": "code",
   "execution_count": 40,
   "id": "42bde41d",
   "metadata": {},
   "outputs": [
    {
     "data": {
      "text/plain": [
       "[25, 36, 11, 545, 9, 1, 3, 6, 223, 6]"
      ]
     },
     "execution_count": 40,
     "metadata": {},
     "output_type": "execute_result"
    }
   ],
   "source": [
    "ls1"
   ]
  },
  {
   "cell_type": "code",
   "execution_count": 45,
   "id": "b0073ff7",
   "metadata": {},
   "outputs": [
    {
     "name": "stdout",
     "output_type": "stream",
     "text": [
      "25\n",
      "36\n",
      "545\n",
      "9\n",
      "3\n",
      "6\n",
      "6\n"
     ]
    }
   ],
   "source": [
    "i = 0\n",
    "while i < len(ls1):\n",
    "    if ls1[i] % 3 == 0 or ls1[i] % 5 == 0:\n",
    "        print(ls1[i])\n",
    "    i += 1"
   ]
  },
  {
   "cell_type": "code",
   "execution_count": null,
   "id": "c680593e",
   "metadata": {},
   "outputs": [],
   "source": []
  },
  {
   "cell_type": "code",
   "execution_count": 9,
   "id": "6e667132",
   "metadata": {},
   "outputs": [],
   "source": [
    "ls1=[25,36,11,545,9,1,3,6,223,6]"
   ]
  },
  {
   "cell_type": "code",
   "execution_count": 10,
   "id": "545fd761",
   "metadata": {},
   "outputs": [
    {
     "name": "stdout",
     "output_type": "stream",
     "text": [
      "[25, 36, 11, 545, 9, 1, 3, 6, 223, 6]\n",
      "[25, 36, 11, 545, 9, 1, 3, 6, 223]\n",
      "[25, 36, 11, 545, 9, 1, 3, 6]\n",
      "[25, 36, 11, 545, 9, 1, 3]\n",
      "[25, 36, 11, 545, 9, 1]\n",
      "[25, 36, 11, 545, 9]\n",
      "[25, 36, 11, 545]\n",
      "[25, 36, 11]\n",
      "[25, 36]\n",
      "[25]\n"
     ]
    }
   ],
   "source": [
    "while ls1:\n",
    "    print(ls1)\n",
    "    ls1.pop()"
   ]
  },
  {
   "cell_type": "code",
   "execution_count": 19,
   "id": "21130370",
   "metadata": {},
   "outputs": [],
   "source": [
    "ls = [23,45,56,78,90,123,43,657,6]"
   ]
  },
  {
   "cell_type": "code",
   "execution_count": 20,
   "id": "346e6493",
   "metadata": {},
   "outputs": [
    {
     "name": "stdout",
     "output_type": "stream",
     "text": [
      "11.5\n",
      "11.5\n",
      "11.5\n",
      "11.5\n",
      "11.5\n",
      "11.5\n",
      "11.5\n",
      "11.5\n",
      "11.5\n"
     ]
    }
   ],
   "source": [
    "i=0\n",
    "while ls:\n",
    "    print(ls[i]/2)\n",
    "    ls.pop()"
   ]
  },
  {
   "cell_type": "code",
   "execution_count": 23,
   "id": "8a7287a9",
   "metadata": {},
   "outputs": [],
   "source": [
    "ls1=[25,36,11,545,9,1,3,6,223,6]"
   ]
  },
  {
   "cell_type": "code",
   "execution_count": 27,
   "id": "bfadfe25",
   "metadata": {},
   "outputs": [
    {
     "name": "stdout",
     "output_type": "stream",
     "text": [
      "Old list:  [25, 36, 11, 545, 9, 1, 3, 6, 223, 6]\n",
      "New list:  [625, 1296, 121, 297025, 81, 1, 9, 36, 49729, 36]\n"
     ]
    }
   ],
   "source": [
    "new_ls0 = []\n",
    "\n",
    "i = 0\n",
    "\n",
    "while i < len(ls1):\n",
    "    new_ls0.append(ls1[i]**2)\n",
    "    i += 1\n",
    "    \n",
    "print('Old list: ', ls1)\n",
    "print('New list: ',new_ls0)"
   ]
  },
  {
   "cell_type": "code",
   "execution_count": null,
   "id": "e9565507",
   "metadata": {},
   "outputs": [],
   "source": []
  },
  {
   "cell_type": "code",
   "execution_count": 8,
   "id": "e07efacd",
   "metadata": {},
   "outputs": [],
   "source": [
    "ls=[25,36,11,545,9,1,3,6,223,6]"
   ]
  },
  {
   "cell_type": "code",
   "execution_count": 10,
   "id": "09cb50be",
   "metadata": {},
   "outputs": [
    {
     "name": "stdout",
     "output_type": "stream",
     "text": [
      "25 odd number\n",
      "36 even number\n",
      "11 odd number\n",
      "545 odd number\n",
      "9 odd number\n",
      "1 odd number\n",
      "3 odd number\n",
      "6 even number\n",
      "223 odd number\n",
      "6 even number\n"
     ]
    }
   ],
   "source": [
    "i=0\n",
    "while i < len(ls):\n",
    "    if ls[i] % 2 == 0:\n",
    "        print(ls[i],'even number')\n",
    "    else :\n",
    "        print(ls[i],'odd number')\n",
    "    i += 1"
   ]
  },
  {
   "cell_type": "code",
   "execution_count": null,
   "id": "545e4d42",
   "metadata": {},
   "outputs": [],
   "source": []
  },
  {
   "cell_type": "code",
   "execution_count": null,
   "id": "4ff7ee1c",
   "metadata": {},
   "outputs": [],
   "source": []
  },
  {
   "cell_type": "code",
   "execution_count": null,
   "id": "012dbd67",
   "metadata": {},
   "outputs": [],
   "source": []
  },
  {
   "cell_type": "code",
   "execution_count": null,
   "id": "d5e99b70",
   "metadata": {},
   "outputs": [],
   "source": []
  },
  {
   "cell_type": "code",
   "execution_count": null,
   "id": "ff4ba161",
   "metadata": {},
   "outputs": [],
   "source": []
  },
  {
   "cell_type": "code",
   "execution_count": null,
   "id": "9c59e1a9",
   "metadata": {},
   "outputs": [],
   "source": []
  },
  {
   "cell_type": "code",
   "execution_count": null,
   "id": "5a7d1f37",
   "metadata": {},
   "outputs": [],
   "source": []
  }
 ],
 "metadata": {
  "kernelspec": {
   "display_name": "Python 3 (ipykernel)",
   "language": "python",
   "name": "python3"
  },
  "language_info": {
   "codemirror_mode": {
    "name": "ipython",
    "version": 3
   },
   "file_extension": ".py",
   "mimetype": "text/x-python",
   "name": "python",
   "nbconvert_exporter": "python",
   "pygments_lexer": "ipython3",
   "version": "3.11.4"
  }
 },
 "nbformat": 4,
 "nbformat_minor": 5
}
