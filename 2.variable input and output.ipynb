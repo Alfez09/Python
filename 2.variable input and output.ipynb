{
 "cells": [
  {
   "cell_type": "markdown",
   "id": "6c42d5f5",
   "metadata": {},
   "source": [
    "# variables and datatypes"
   ]
  },
  {
   "cell_type": "markdown",
   "id": "5f22b497",
   "metadata": {},
   "source": [
    "## Rules for variable - to create\n",
    "### >vaiable not started with numbers.\n",
    "### >exccept \"-\" this symbol not start any unique symbols.{,#,$,%,&}\n",
    "### >space not contain between variable."
   ]
  },
  {
   "cell_type": "code",
   "execution_count": 22,
   "id": "0c8b74e6",
   "metadata": {},
   "outputs": [],
   "source": [
    "l ='python'"
   ]
  },
  {
   "cell_type": "code",
   "execution_count": 23,
   "id": "d6b2cc32",
   "metadata": {},
   "outputs": [
    {
     "data": {
      "text/plain": [
       "'PYTHON'"
      ]
     },
     "execution_count": 23,
     "metadata": {},
     "output_type": "execute_result"
    }
   ],
   "source": [
    "l.upper()"
   ]
  },
  {
   "cell_type": "code",
   "execution_count": 2,
   "id": "71aee70b",
   "metadata": {},
   "outputs": [],
   "source": [
    "l1= 'python'\n",
    "l2='java'\n",
    "l3='reacts'"
   ]
  },
  {
   "cell_type": "code",
   "execution_count": 3,
   "id": "ee62c5af",
   "metadata": {},
   "outputs": [
    {
     "name": "stdout",
     "output_type": "stream",
     "text": [
      "['python', 'java', 'reacts']\n"
     ]
    }
   ],
   "source": [
    "print([l1,l2,l3])"
   ]
  },
  {
   "cell_type": "code",
   "execution_count": 5,
   "id": "ce0805ba",
   "metadata": {},
   "outputs": [
    {
     "name": "stdout",
     "output_type": "stream",
     "text": [
      "[<class 'str'>]\n"
     ]
    }
   ],
   "source": [
    "print([type(l1)])"
   ]
  },
  {
   "cell_type": "code",
   "execution_count": 5,
   "id": "33fdac13",
   "metadata": {},
   "outputs": [],
   "source": [
    "name = 'harsha'"
   ]
  },
  {
   "cell_type": "code",
   "execution_count": 6,
   "id": "d34fe882",
   "metadata": {},
   "outputs": [
    {
     "name": "stdout",
     "output_type": "stream",
     "text": [
      "harsha\n"
     ]
    }
   ],
   "source": [
    "print(name)"
   ]
  },
  {
   "cell_type": "code",
   "execution_count": 11,
   "id": "a4cd9b95",
   "metadata": {},
   "outputs": [],
   "source": [
    "na_me='Aamnaa'"
   ]
  },
  {
   "cell_type": "code",
   "execution_count": 12,
   "id": "2d4d8368",
   "metadata": {},
   "outputs": [
    {
     "name": "stdout",
     "output_type": "stream",
     "text": [
      "Aamnaa\n"
     ]
    }
   ],
   "source": [
    "print(na_me)"
   ]
  },
  {
   "cell_type": "code",
   "execution_count": null,
   "id": "58185aa4",
   "metadata": {},
   "outputs": [],
   "source": []
  },
  {
   "cell_type": "markdown",
   "id": "3d22e7e9",
   "metadata": {},
   "source": [
    " for input() functionn :"
   ]
  },
  {
   "cell_type": "code",
   "execution_count": 39,
   "id": "bcf19db1",
   "metadata": {},
   "outputs": [],
   "source": [
    "a=21"
   ]
  },
  {
   "cell_type": "code",
   "execution_count": 13,
   "id": "51e09369",
   "metadata": {},
   "outputs": [
    {
     "name": "stdout",
     "output_type": "stream",
     "text": [
      "amaan\n"
     ]
    }
   ],
   "source": [
    "name=input()"
   ]
  },
  {
   "cell_type": "code",
   "execution_count": 14,
   "id": "559455da",
   "metadata": {},
   "outputs": [
    {
     "name": "stdout",
     "output_type": "stream",
     "text": [
      "amaan\n"
     ]
    }
   ],
   "source": [
    "print (name)"
   ]
  },
  {
   "cell_type": "code",
   "execution_count": 17,
   "id": "3753218b",
   "metadata": {},
   "outputs": [
    {
     "name": "stdout",
     "output_type": "stream",
     "text": [
      "amaan <class 'str'>\n"
     ]
    }
   ],
   "source": [
    "print(name,type(name))"
   ]
  },
  {
   "cell_type": "markdown",
   "id": "d69869a8",
   "metadata": {},
   "source": [
    "for converting string into integer"
   ]
  },
  {
   "cell_type": "code",
   "execution_count": 22,
   "id": "d6d5eb2e",
   "metadata": {},
   "outputs": [],
   "source": [
    "i='58'"
   ]
  },
  {
   "cell_type": "code",
   "execution_count": 23,
   "id": "96b696f5",
   "metadata": {},
   "outputs": [
    {
     "data": {
      "text/plain": [
       "58"
      ]
     },
     "execution_count": 23,
     "metadata": {},
     "output_type": "execute_result"
    }
   ],
   "source": [
    "int(i)"
   ]
  },
  {
   "cell_type": "markdown",
   "id": "71b0c9e4",
   "metadata": {},
   "source": [
    "difference:  "
   ]
  },
  {
   "cell_type": "code",
   "execution_count": 24,
   "id": "859b9e0e",
   "metadata": {},
   "outputs": [
    {
     "name": "stdout",
     "output_type": "stream",
     "text": [
      "<class 'str'>\n"
     ]
    }
   ],
   "source": [
    "print(type(i))"
   ]
  },
  {
   "cell_type": "code",
   "execution_count": 26,
   "id": "4085e6e4",
   "metadata": {},
   "outputs": [
    {
     "name": "stdout",
     "output_type": "stream",
     "text": [
      "<class 'int'>\n"
     ]
    }
   ],
   "source": [
    "print(type(int(i)))"
   ]
  },
  {
   "cell_type": "code",
   "execution_count": null,
   "id": "26e42928",
   "metadata": {},
   "outputs": [],
   "source": []
  },
  {
   "cell_type": "markdown",
   "id": "1c05a1a9",
   "metadata": {},
   "source": [
    "for convert using input function  "
   ]
  },
  {
   "cell_type": "code",
   "execution_count": 31,
   "id": "43da51bf",
   "metadata": {},
   "outputs": [
    {
     "name": "stdout",
     "output_type": "stream",
     "text": [
      "255\n"
     ]
    }
   ],
   "source": [
    "name=int(input())"
   ]
  },
  {
   "cell_type": "code",
   "execution_count": 33,
   "id": "bc9fbb06",
   "metadata": {},
   "outputs": [
    {
     "name": "stdout",
     "output_type": "stream",
     "text": [
      "255 <class 'int'>\n"
     ]
    }
   ],
   "source": [
    "print(name,type(name))"
   ]
  },
  {
   "cell_type": "code",
   "execution_count": null,
   "id": "84da55a4",
   "metadata": {},
   "outputs": [],
   "source": []
  },
  {
   "cell_type": "markdown",
   "id": "6c1bd884",
   "metadata": {},
   "source": []
  },
  {
   "cell_type": "code",
   "execution_count": null,
   "id": "c7f78d01",
   "metadata": {},
   "outputs": [],
   "source": []
  },
  {
   "cell_type": "code",
   "execution_count": null,
   "id": "5e73ba38",
   "metadata": {},
   "outputs": [],
   "source": []
  },
  {
   "cell_type": "code",
   "execution_count": null,
   "id": "1e0705e0",
   "metadata": {},
   "outputs": [],
   "source": []
  },
  {
   "cell_type": "code",
   "execution_count": null,
   "id": "406c434d",
   "metadata": {},
   "outputs": [],
   "source": []
  },
  {
   "cell_type": "code",
   "execution_count": null,
   "id": "d8e22f0c",
   "metadata": {},
   "outputs": [],
   "source": []
  },
  {
   "cell_type": "code",
   "execution_count": null,
   "id": "acd24974",
   "metadata": {},
   "outputs": [],
   "source": []
  }
 ],
 "metadata": {
  "kernelspec": {
   "display_name": "Python 3 (ipykernel)",
   "language": "python",
   "name": "python3"
  },
  "language_info": {
   "codemirror_mode": {
    "name": "ipython",
    "version": 3
   },
   "file_extension": ".py",
   "mimetype": "text/x-python",
   "name": "python",
   "nbconvert_exporter": "python",
   "pygments_lexer": "ipython3",
   "version": "3.11.4"
  }
 },
 "nbformat": 4,
 "nbformat_minor": 5
}
