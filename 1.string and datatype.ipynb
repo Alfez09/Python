{
 "cells": [
  {
   "cell_type": "markdown",
   "id": "70388bd3",
   "metadata": {},
   "source": [
    "## string & datatypes"
   ]
  },
  {
   "cell_type": "markdown",
   "id": "5f234b45",
   "metadata": {},
   "source": [
    "colletion of characters \n",
    "immutable\n",
    "unordred"
   ]
  },
  {
   "cell_type": "markdown",
   "id": "4f4ed5bc",
   "metadata": {},
   "source": [
    "## split() & join()"
   ]
  },
  {
   "cell_type": "markdown",
   "id": "29a4dd6f",
   "metadata": {},
   "source": [
    "## Method\tDescription\n",
    "# capitalize()\tConverts the first character to upper case\n",
    "# casefold()\tConverts string into lower case\n",
    "# center()\tReturns a centered string\n",
    "# count()\tReturns the number of times a specified value occurs in a string\n",
    "# encode()\tReturns an encoded version of the string\n",
    "# endswith()\tReturns true if the string ends with the specified value\n",
    "# expandtabs()\tSets the tab size of the string\n",
    "# find()\tSearches the string for a specified value and returns the position of where it was found\n",
    "# format()\tFormats specified values in a string\n",
    "# format_map()\tFormats specified values in a string\n",
    "# index()\tSearches the string for a specified value and returns the position of where it was found\n",
    "# isalnum()\tReturns True if all characters in the string are alphanumeric\n",
    "# isalpha()\tReturns True if all characters in the string are in the alphabet\n",
    "# isascii()\tReturns True if all characters in the string are ascii characters\n",
    "# isdecimal()\tReturns True if all characters in the string are decimals\n",
    "# isdigit()\tReturns True if all characters in the string are digits\n",
    "# isidentifier()\tReturns True if the string is an identifier\n",
    "# islower()\tReturns True if all characters in the string are lower case\n",
    "# isnumeric()\tReturns True if all characters in the string are numeric\n",
    "# isprintable()\tReturns True if all characters in the string are printable\n",
    "# isspace()\tReturns True if all characters in the string are whitespaces\n",
    "# istitle()\tReturns True if the string follows the rules of a title\n",
    "# isupper()\tReturns True if all characters in the string are upper case\n",
    "# join()\tJoins the elements of an iterable to the end of the string\n",
    "# ljust()\tReturns a left justified version of the string\n",
    "# lower()\tConverts a string into lower case\n",
    "# lstrip()\tReturns a left trim version of the string\n",
    "# maketrans()\tReturns a translation table to be used in translations\n",
    "# partition()\tReturns a tuple where the string is parted into three parts\n",
    "# replace()\tReturns a string where a specified value is replaced with a specified value\n",
    "# rfind()\tSearches the string for a specified value and returns the last position of where it was found\n",
    "# rindex()\tSearches the string for a specified value and returns the last position of where it was found\n",
    "# rjust()\tReturns a right justified version of the string\n",
    "# rpartition()\tReturns a tuple where the string is parted into three parts\n",
    "# rsplit()\tSplits the string at the specified separator, and returns a list\n",
    "# rstrip()\tReturns a right trim version of the string\n",
    "# split()\tSplits the string at the specified separator, and returns a list\n",
    "# splitlines()\tSplits the string at line breaks and returns a list\n",
    "# startswith()\tReturns true if the string starts with the specified value\n",
    "# strip()\tReturns a trimmed version of the string\n",
    "# swapcase()\tSwaps cases, lower case becomes upper case and vice versa\n",
    "# title()\tConverts the first character of each word to upper case\n",
    "# translate()\tReturns a translated string\n",
    "# upper()\tConverts a string into upper case\n",
    "# zfill()\tFills the string with a specified number of 0 values at the beginning\n",
    " "
   ]
  },
  {
   "cell_type": "code",
   "execution_count": 2,
   "id": "a083a55e",
   "metadata": {},
   "outputs": [],
   "source": [
    "s1= 'upper-caste'"
   ]
  },
  {
   "cell_type": "code",
   "execution_count": 5,
   "id": "216d441d",
   "metadata": {},
   "outputs": [
    {
     "data": {
      "text/plain": [
       "['upper', 'caste']"
      ]
     },
     "execution_count": 5,
     "metadata": {},
     "output_type": "execute_result"
    }
   ],
   "source": [
    "s1.split('-')"
   ]
  },
  {
   "cell_type": "code",
   "execution_count": null,
   "id": "90399cca",
   "metadata": {},
   "outputs": [],
   "source": []
  },
  {
   "cell_type": "code",
   "execution_count": 16,
   "id": "0d4d66f1",
   "metadata": {},
   "outputs": [],
   "source": [
    "s0='hello my passion is programming' "
   ]
  },
  {
   "cell_type": "code",
   "execution_count": 18,
   "id": "23065c78",
   "metadata": {},
   "outputs": [
    {
     "data": {
      "text/plain": [
       "['hello', 'my', 'passion', 'is', 'programming']"
      ]
     },
     "execution_count": 18,
     "metadata": {},
     "output_type": "execute_result"
    }
   ],
   "source": [
    "s0.split()"
   ]
  },
  {
   "cell_type": "markdown",
   "id": "8a1333cf",
   "metadata": {},
   "source": [
    "## join()"
   ]
  },
  {
   "cell_type": "code",
   "execution_count": 7,
   "id": "6de100db",
   "metadata": {},
   "outputs": [],
   "source": [
    "ls = ['hello', 'my', 'passion', 'is', 'programming']\n"
   ]
  },
  {
   "cell_type": "code",
   "execution_count": 8,
   "id": "0ead695d",
   "metadata": {},
   "outputs": [
    {
     "data": {
      "text/plain": [
       "'hello,my,passion,is,programming'"
      ]
     },
     "execution_count": 8,
     "metadata": {},
     "output_type": "execute_result"
    }
   ],
   "source": [
    "','.join(ls)"
   ]
  },
  {
   "cell_type": "code",
   "execution_count": 9,
   "id": "8bbdd5a6",
   "metadata": {},
   "outputs": [
    {
     "data": {
      "text/plain": [
       "'hellomypassionisprogramming'"
      ]
     },
     "execution_count": 9,
     "metadata": {},
     "output_type": "execute_result"
    }
   ],
   "source": [
    "''.join(ls)"
   ]
  },
  {
   "cell_type": "code",
   "execution_count": 10,
   "id": "530c4931",
   "metadata": {},
   "outputs": [
    {
     "data": {
      "text/plain": [
       "'hello my passion is programming'"
      ]
     },
     "execution_count": 10,
     "metadata": {},
     "output_type": "execute_result"
    }
   ],
   "source": [
    "' '.join(ls)"
   ]
  },
  {
   "cell_type": "code",
   "execution_count": null,
   "id": "3b909385",
   "metadata": {},
   "outputs": [],
   "source": []
  },
  {
   "cell_type": "code",
   "execution_count": null,
   "id": "5e98232b",
   "metadata": {},
   "outputs": [],
   "source": []
  },
  {
   "cell_type": "markdown",
   "id": "aa64b3bb",
   "metadata": {},
   "source": [
    "## isupper()\n",
    "## islower()\n",
    "## isdigit()\n",
    "## isspace()"
   ]
  },
  {
   "cell_type": "code",
   "execution_count": null,
   "id": "a7c9f4e6",
   "metadata": {},
   "outputs": [],
   "source": []
  },
  {
   "cell_type": "code",
   "execution_count": 16,
   "id": "592ebecc",
   "metadata": {},
   "outputs": [],
   "source": [
    "a1= 'RAN CHII'"
   ]
  },
  {
   "cell_type": "code",
   "execution_count": 17,
   "id": "7c263c09",
   "metadata": {},
   "outputs": [
    {
     "data": {
      "text/plain": [
       "True"
      ]
     },
     "execution_count": 17,
     "metadata": {},
     "output_type": "execute_result"
    }
   ],
   "source": [
    "a1.isupper()"
   ]
  },
  {
   "cell_type": "code",
   "execution_count": 18,
   "id": "8cadea5e",
   "metadata": {},
   "outputs": [
    {
     "data": {
      "text/plain": [
       "False"
      ]
     },
     "execution_count": 18,
     "metadata": {},
     "output_type": "execute_result"
    }
   ],
   "source": [
    "a1.islower()"
   ]
  },
  {
   "cell_type": "code",
   "execution_count": 19,
   "id": "b1516a65",
   "metadata": {},
   "outputs": [
    {
     "data": {
      "text/plain": [
       "False"
      ]
     },
     "execution_count": 19,
     "metadata": {},
     "output_type": "execute_result"
    }
   ],
   "source": [
    "a1.isdigit()"
   ]
  },
  {
   "cell_type": "code",
   "execution_count": 20,
   "id": "6e715095",
   "metadata": {},
   "outputs": [
    {
     "data": {
      "text/plain": [
       "False"
      ]
     },
     "execution_count": 20,
     "metadata": {},
     "output_type": "execute_result"
    }
   ],
   "source": [
    "a1.isspace()"
   ]
  },
  {
   "cell_type": "code",
   "execution_count": null,
   "id": "6c534ea2",
   "metadata": {},
   "outputs": [],
   "source": []
  },
  {
   "cell_type": "code",
   "execution_count": 22,
   "id": "b2d51f67",
   "metadata": {},
   "outputs": [],
   "source": [
    "a2=' '"
   ]
  },
  {
   "cell_type": "code",
   "execution_count": 23,
   "id": "5dbbec53",
   "metadata": {},
   "outputs": [
    {
     "data": {
      "text/plain": [
       "True"
      ]
     },
     "execution_count": 23,
     "metadata": {},
     "output_type": "execute_result"
    }
   ],
   "source": [
    "a2.isspace()"
   ]
  },
  {
   "cell_type": "code",
   "execution_count": null,
   "id": "c5ff3620",
   "metadata": {},
   "outputs": [],
   "source": []
  },
  {
   "cell_type": "markdown",
   "id": "d689cd06",
   "metadata": {},
   "source": [
    "## center()"
   ]
  },
  {
   "cell_type": "code",
   "execution_count": null,
   "id": "29c19bb9",
   "metadata": {},
   "outputs": [],
   "source": []
  },
  {
   "cell_type": "code",
   "execution_count": 1,
   "id": "6abde1a3",
   "metadata": {},
   "outputs": [],
   "source": [
    "w1='python'"
   ]
  },
  {
   "cell_type": "code",
   "execution_count": 3,
   "id": "9530dbd9",
   "metadata": {},
   "outputs": [
    {
     "data": {
      "text/plain": [
       "'#######python#######'"
      ]
     },
     "execution_count": 3,
     "metadata": {},
     "output_type": "execute_result"
    }
   ],
   "source": [
    "w1.center(20,'#')"
   ]
  },
  {
   "cell_type": "code",
   "execution_count": 34,
   "id": "c2763f42",
   "metadata": {},
   "outputs": [
    {
     "data": {
      "text/plain": [
       "'@@@@@@@@@@@@@@@@@@@@@@@@@@@@@@@@@@@@@@@@@@@@@@@python@@@@@@@@@@@@@@@@@@@@@@@@@@@@@@@@@@@@@@@@@@@@@@@'"
      ]
     },
     "execution_count": 34,
     "metadata": {},
     "output_type": "execute_result"
    }
   ],
   "source": [
    "w1.center(100, '@')"
   ]
  },
  {
   "cell_type": "code",
   "execution_count": null,
   "id": "2da7f77b",
   "metadata": {},
   "outputs": [],
   "source": []
  },
  {
   "cell_type": "code",
   "execution_count": 35,
   "id": "771473f3",
   "metadata": {},
   "outputs": [
    {
     "name": "stdout",
     "output_type": "stream",
     "text": [
      "['capitalize', 'casefold', 'center', 'count', 'encode', 'endswith', 'expandtabs', 'find', 'format', 'format_map', 'index', 'isalnum', 'isalpha', 'isascii', 'isdecimal', 'isdigit', 'isidentifier', 'islower', 'isnumeric', 'isprintable', 'isspace', 'istitle', 'isupper', 'join', 'ljust', 'lower', 'lstrip', 'maketrans', 'partition', 'removeprefix', 'removesuffix', 'replace', 'rfind', 'rindex', 'rjust', 'rpartition', 'rsplit', 'rstrip', 'split', 'splitlines', 'startswith', 'strip', 'swapcase', 'title', 'translate', 'upper', 'zfill']\n"
     ]
    }
   ],
   "source": [
    "print([i for i in dir(str) if not i.startswith('_')])"
   ]
  },
  {
   "cell_type": "code",
   "execution_count": 11,
   "id": "2aa3ada6",
   "metadata": {},
   "outputs": [
    {
     "name": "stdout",
     "output_type": "stream",
     "text": [
      "47\n"
     ]
    }
   ],
   "source": [
    "print(len(([i for i in dir(str) if not i.startswith('_')])))"
   ]
  },
  {
   "cell_type": "code",
   "execution_count": 4,
   "id": "658cc701",
   "metadata": {},
   "outputs": [],
   "source": [
    "a1 ='ALfez KhAn'"
   ]
  },
  {
   "cell_type": "code",
   "execution_count": 5,
   "id": "eb4ad4ee",
   "metadata": {},
   "outputs": [
    {
     "data": {
      "text/plain": [
       "'alFEZ kHaN'"
      ]
     },
     "execution_count": 5,
     "metadata": {},
     "output_type": "execute_result"
    }
   ],
   "source": [
    "a1.swapcase() "
   ]
  },
  {
   "cell_type": "code",
   "execution_count": null,
   "id": "a8dc4c25",
   "metadata": {},
   "outputs": [],
   "source": []
  },
  {
   "cell_type": "code",
   "execution_count": 6,
   "id": "b3044915",
   "metadata": {},
   "outputs": [],
   "source": [
    "a0= 'datatype'"
   ]
  },
  {
   "cell_type": "code",
   "execution_count": 7,
   "id": "f8c19e2f",
   "metadata": {},
   "outputs": [
    {
     "data": {
      "text/plain": [
       "'Datatype'"
      ]
     },
     "execution_count": 7,
     "metadata": {},
     "output_type": "execute_result"
    }
   ],
   "source": [
    "a0.capitalize()"
   ]
  },
  {
   "cell_type": "code",
   "execution_count": 14,
   "id": "8bc16dd8",
   "metadata": {},
   "outputs": [
    {
     "data": {
      "text/plain": [
       "'datatype'"
      ]
     },
     "execution_count": 14,
     "metadata": {},
     "output_type": "execute_result"
    }
   ],
   "source": [
    "a0.casefold()"
   ]
  },
  {
   "cell_type": "code",
   "execution_count": 9,
   "id": "bbbd4d87",
   "metadata": {},
   "outputs": [
    {
     "data": {
      "text/plain": [
       "b'ALfez KhAn'"
      ]
     },
     "execution_count": 9,
     "metadata": {},
     "output_type": "execute_result"
    }
   ],
   "source": [
    " a1.encode()"
   ]
  },
  {
   "cell_type": "code",
   "execution_count": 15,
   "id": "ed4d881c",
   "metadata": {
    "scrolled": true
   },
   "outputs": [
    {
     "data": {
      "text/plain": [
       "'ALfez KhAn'"
      ]
     },
     "execution_count": 15,
     "metadata": {},
     "output_type": "execute_result"
    }
   ],
   "source": [
    "a1.expandtabs()"
   ]
  },
  {
   "cell_type": "code",
   "execution_count": 59,
   "id": "8fbe4dea",
   "metadata": {},
   "outputs": [
    {
     "data": {
      "text/plain": [
       "True"
      ]
     },
     "execution_count": 59,
     "metadata": {},
     "output_type": "execute_result"
    }
   ],
   "source": [
    "a0.isalnum()"
   ]
  },
  {
   "cell_type": "code",
   "execution_count": 60,
   "id": "cba94914",
   "metadata": {},
   "outputs": [
    {
     "data": {
      "text/plain": [
       "True"
      ]
     },
     "execution_count": 60,
     "metadata": {},
     "output_type": "execute_result"
    }
   ],
   "source": [
    "a0.isalpha()"
   ]
  },
  {
   "cell_type": "code",
   "execution_count": 66,
   "id": "78c3338e",
   "metadata": {
    "scrolled": true
   },
   "outputs": [
    {
     "data": {
      "text/plain": [
       "'datatype'"
      ]
     },
     "execution_count": 66,
     "metadata": {},
     "output_type": "execute_result"
    }
   ],
   "source": [
    "a0.format(2)"
   ]
  },
  {
   "cell_type": "code",
   "execution_count": null,
   "id": "92c25edd",
   "metadata": {},
   "outputs": [],
   "source": []
  },
  {
   "cell_type": "markdown",
   "id": "e1245079",
   "metadata": {},
   "source": [
    "## list()"
   ]
  },
  {
   "cell_type": "code",
   "execution_count": null,
   "id": "f41df949",
   "metadata": {},
   "outputs": [],
   "source": []
  },
  {
   "cell_type": "markdown",
   "id": "e1b975d0",
   "metadata": {},
   "source": [
    "## index()"
   ]
  },
  {
   "cell_type": "code",
   "execution_count": 68,
   "id": "ff347b1f",
   "metadata": {},
   "outputs": [],
   "source": [
    "ls=[23,65,45,85,52]"
   ]
  },
  {
   "cell_type": "code",
   "execution_count": 74,
   "id": "2e7fff6e",
   "metadata": {},
   "outputs": [
    {
     "data": {
      "text/plain": [
       "4"
      ]
     },
     "execution_count": 74,
     "metadata": {},
     "output_type": "execute_result"
    }
   ],
   "source": [
    "ls.index(52)"
   ]
  },
  {
   "cell_type": "code",
   "execution_count": 75,
   "id": "9d5eddac",
   "metadata": {},
   "outputs": [
    {
     "data": {
      "text/plain": [
       "85"
      ]
     },
     "execution_count": 75,
     "metadata": {},
     "output_type": "execute_result"
    }
   ],
   "source": [
    "ls[3]"
   ]
  },
  {
   "cell_type": "code",
   "execution_count": 76,
   "id": "2ee38a7a",
   "metadata": {},
   "outputs": [
    {
     "data": {
      "text/plain": [
       "85"
      ]
     },
     "execution_count": 76,
     "metadata": {},
     "output_type": "execute_result"
    }
   ],
   "source": [
    "ls[-2]"
   ]
  },
  {
   "cell_type": "code",
   "execution_count": null,
   "id": "a4ef3bbf",
   "metadata": {},
   "outputs": [],
   "source": []
  },
  {
   "cell_type": "code",
   "execution_count": 79,
   "id": "f213197d",
   "metadata": {},
   "outputs": [],
   "source": [
    "s='language'\n",
    "#  12345678"
   ]
  },
  {
   "cell_type": "code",
   "execution_count": 80,
   "id": "e33ea68c",
   "metadata": {},
   "outputs": [
    {
     "data": {
      "text/plain": [
       "'g'"
      ]
     },
     "execution_count": 80,
     "metadata": {},
     "output_type": "execute_result"
    }
   ],
   "source": [
    "s[6]"
   ]
  },
  {
   "cell_type": "code",
   "execution_count": 82,
   "id": "4bbab4a1",
   "metadata": {},
   "outputs": [],
   "source": [
    "g='data type'"
   ]
  },
  {
   "cell_type": "code",
   "execution_count": 84,
   "id": "1a1492d1",
   "metadata": {},
   "outputs": [
    {
     "data": {
      "text/plain": [
       "' '"
      ]
     },
     "execution_count": 84,
     "metadata": {},
     "output_type": "execute_result"
    }
   ],
   "source": [
    "g[4]"
   ]
  },
  {
   "cell_type": "markdown",
   "id": "5b9d98ca",
   "metadata": {},
   "source": [
    "## append() & extend()"
   ]
  },
  {
   "cell_type": "code",
   "execution_count": 90,
   "id": "e506a75c",
   "metadata": {},
   "outputs": [],
   "source": [
    "lis=[23,58,36,54,21,12,60]"
   ]
  },
  {
   "cell_type": "code",
   "execution_count": 91,
   "id": "27abb17d",
   "metadata": {},
   "outputs": [],
   "source": [
    "lis.append(25)"
   ]
  },
  {
   "cell_type": "code",
   "execution_count": 92,
   "id": "063b3ed3",
   "metadata": {},
   "outputs": [
    {
     "name": "stdout",
     "output_type": "stream",
     "text": [
      "[23, 58, 36, 54, 21, 12, 60, 25]\n"
     ]
    }
   ],
   "source": [
    "print(lis)"
   ]
  },
  {
   "cell_type": "code",
   "execution_count": null,
   "id": "cd9abdee",
   "metadata": {},
   "outputs": [],
   "source": []
  },
  {
   "cell_type": "code",
   "execution_count": 96,
   "id": "f0cd6f3c",
   "metadata": {},
   "outputs": [],
   "source": [
    "lis.extend([200,300,500])"
   ]
  },
  {
   "cell_type": "code",
   "execution_count": 102,
   "id": "5c4298ac",
   "metadata": {},
   "outputs": [
    {
     "name": "stdout",
     "output_type": "stream",
     "text": [
      "[23, 58, 36, 54, 21, 12, 60, 25, 200, 300, 500]\n"
     ]
    }
   ],
   "source": [
    "print(lis)"
   ]
  },
  {
   "cell_type": "code",
   "execution_count": 106,
   "id": "ca67fb0f",
   "metadata": {},
   "outputs": [],
   "source": [
    "lis.extend('python')"
   ]
  },
  {
   "cell_type": "code",
   "execution_count": 107,
   "id": "911c921e",
   "metadata": {},
   "outputs": [
    {
     "name": "stdout",
     "output_type": "stream",
     "text": [
      "[23, 58, 36, 54, 21, 12, 60, 25, 200, 300, 500, 'p', 'y', 't', 'h', 'o', 'n']\n"
     ]
    }
   ],
   "source": [
    "print(lis)"
   ]
  },
  {
   "cell_type": "code",
   "execution_count": null,
   "id": "45fcca0c",
   "metadata": {},
   "outputs": [],
   "source": []
  },
  {
   "cell_type": "code",
   "execution_count": null,
   "id": "612fa442",
   "metadata": {},
   "outputs": [],
   "source": []
  },
  {
   "cell_type": "code",
   "execution_count": null,
   "id": "8f92cee0",
   "metadata": {},
   "outputs": [],
   "source": []
  },
  {
   "cell_type": "code",
   "execution_count": null,
   "id": "7acb8088",
   "metadata": {},
   "outputs": [],
   "source": []
  },
  {
   "cell_type": "code",
   "execution_count": null,
   "id": "d4b0b8bb",
   "metadata": {},
   "outputs": [],
   "source": []
  },
  {
   "cell_type": "code",
   "execution_count": null,
   "id": "04d4dabc",
   "metadata": {},
   "outputs": [],
   "source": []
  },
  {
   "cell_type": "code",
   "execution_count": null,
   "id": "fd1bad04",
   "metadata": {},
   "outputs": [],
   "source": []
  },
  {
   "cell_type": "code",
   "execution_count": null,
   "id": "943ece89",
   "metadata": {},
   "outputs": [],
   "source": []
  }
 ],
 "metadata": {
  "kernelspec": {
   "display_name": "Python 3 (ipykernel)",
   "language": "python",
   "name": "python3"
  },
  "language_info": {
   "codemirror_mode": {
    "name": "ipython",
    "version": 3
   },
   "file_extension": ".py",
   "mimetype": "text/x-python",
   "name": "python",
   "nbconvert_exporter": "python",
   "pygments_lexer": "ipython3",
   "version": "3.12.4"
  }
 },
 "nbformat": 4,
 "nbformat_minor": 5
}
