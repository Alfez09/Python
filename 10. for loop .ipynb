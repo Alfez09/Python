{
 "cells": [
  {
   "cell_type": "markdown",
   "id": "92b4aee3",
   "metadata": {},
   "source": [
    "# for loop()\n",
    " for var in itrable:\n",
    " #statement"
   ]
  },
  {
   "cell_type": "code",
   "execution_count": 9,
   "id": "49565d2f",
   "metadata": {},
   "outputs": [],
   "source": [
    "ls1=[25,36,11,545,9,1,3,6,223,6]"
   ]
  },
  {
   "cell_type": "code",
   "execution_count": 11,
   "id": "6ac5c3d9",
   "metadata": {},
   "outputs": [
    {
     "name": "stdout",
     "output_type": "stream",
     "text": [
      "[25, 36, 11, 545, 9, 1, 3, 6, 223, 6]\n",
      "[25, 36, 11, 545, 9, 1, 3, 6, 223, 6]\n",
      "[25, 36, 11, 545, 9, 1, 3, 6, 223, 6]\n",
      "[25, 36, 11, 545, 9, 1, 3, 6, 223, 6]\n",
      "[25, 36, 11, 545, 9, 1, 3, 6, 223, 6]\n",
      "[25, 36, 11, 545, 9, 1, 3, 6, 223, 6]\n",
      "[25, 36, 11, 545, 9, 1, 3, 6, 223, 6]\n",
      "[25, 36, 11, 545, 9, 1, 3, 6, 223, 6]\n",
      "[25, 36, 11, 545, 9, 1, 3, 6, 223, 6]\n",
      "[25, 36, 11, 545, 9, 1, 3, 6, 223, 6]\n"
     ]
    }
   ],
   "source": [
    "for i in ls1:\n",
    "    print(ls1)"
   ]
  },
  {
   "cell_type": "code",
   "execution_count": null,
   "id": "5d5a8bbe",
   "metadata": {},
   "outputs": [],
   "source": []
  },
  {
   "cell_type": "code",
   "execution_count": null,
   "id": "5921f88a",
   "metadata": {},
   "outputs": [],
   "source": [
    "ls=[25,36,11,545,9,1,3,6,223,6]"
   ]
  },
  {
   "cell_type": "code",
   "execution_count": 12,
   "id": "fc434c86",
   "metadata": {},
   "outputs": [
    {
     "name": "stdout",
     "output_type": "stream",
     "text": [
      "25\n",
      "36\n",
      "11\n",
      "545\n",
      "9\n",
      "1\n",
      "3\n",
      "6\n",
      "223\n",
      "6\n"
     ]
    }
   ],
   "source": [
    "for i in ls1:\n",
    "    print(i)"
   ]
  },
  {
   "cell_type": "code",
   "execution_count": null,
   "id": "8d49d84e",
   "metadata": {},
   "outputs": [],
   "source": []
  },
  {
   "cell_type": "code",
   "execution_count": 26,
   "id": "5838b8cc",
   "metadata": {},
   "outputs": [],
   "source": [
    "name ={'emp': 'afzal','branch':'manager','sale':'25 lakh'}"
   ]
  },
  {
   "cell_type": "code",
   "execution_count": 34,
   "id": "4d85a884",
   "metadata": {},
   "outputs": [
    {
     "name": "stdout",
     "output_type": "stream",
     "text": [
      "emp\n",
      "branch\n",
      "sale\n"
     ]
    }
   ],
   "source": [
    "for i in name:\n",
    "    print(i)\n",
    "    "
   ]
  },
  {
   "cell_type": "code",
   "execution_count": null,
   "id": "2a4bac29",
   "metadata": {},
   "outputs": [],
   "source": []
  },
  {
   "cell_type": "code",
   "execution_count": null,
   "id": "cf47b4df",
   "metadata": {},
   "outputs": [],
   "source": [
    "name ={'emp': 'afzal','branch':'manager','sale':'25 lakh'}"
   ]
  },
  {
   "cell_type": "code",
   "execution_count": 32,
   "id": "08fd2d4e",
   "metadata": {},
   "outputs": [
    {
     "name": "stdout",
     "output_type": "stream",
     "text": [
      "emp : afzal\n",
      "branch : manager\n",
      "sale : 25 lakh\n"
     ]
    }
   ],
   "source": [
    "for i  in name:\n",
    "    print(i,':',name[i])\n",
    "    "
   ]
  },
  {
   "cell_type": "code",
   "execution_count": null,
   "id": "0a98e546",
   "metadata": {},
   "outputs": [],
   "source": []
  },
  {
   "cell_type": "code",
   "execution_count": 49,
   "id": "ef7de5b8",
   "metadata": {},
   "outputs": [],
   "source": [
    "ls=[25,36,11,545,9,1,3,6,223,6]"
   ]
  },
  {
   "cell_type": "code",
   "execution_count": 50,
   "id": "40d6055b",
   "metadata": {},
   "outputs": [
    {
     "name": "stdout",
     "output_type": "stream",
     "text": [
      "25\n",
      "36\n",
      "11\n",
      "545\n",
      "9\n",
      "1\n",
      "3\n",
      "6\n",
      "223\n",
      "6\n"
     ]
    }
   ],
   "source": [
    "for ls[0] in ls:\n",
    "    print(ls[0])"
   ]
  },
  {
   "cell_type": "code",
   "execution_count": 3,
   "id": "72eae64d",
   "metadata": {},
   "outputs": [],
   "source": [
    "ls=[25,36,11,545,9,1,3,6,223,6]"
   ]
  },
  {
   "cell_type": "code",
   "execution_count": 4,
   "id": "b3d0c2c8",
   "metadata": {},
   "outputs": [
    {
     "name": "stdout",
     "output_type": "stream",
     "text": [
      "25\n",
      "25\n",
      "25\n",
      "25\n",
      "25\n",
      "25\n",
      "25\n",
      "25\n",
      "25\n",
      "25\n"
     ]
    }
   ],
   "source": [
    "for ls[-1] in ls:\n",
    "    print(ls[0])"
   ]
  },
  {
   "cell_type": "code",
   "execution_count": 5,
   "id": "1dc98ab4",
   "metadata": {},
   "outputs": [
    {
     "name": "stdout",
     "output_type": "stream",
     "text": [
      "[25, 36, 11, 545, 9, 1, 3, 6, 223, 223]\n"
     ]
    }
   ],
   "source": [
    "print(ls)"
   ]
  },
  {
   "cell_type": "code",
   "execution_count": 7,
   "id": "f61b257e",
   "metadata": {},
   "outputs": [],
   "source": [
    "ls=[25,36,11,545,9,1,3,6,223,6]"
   ]
  },
  {
   "cell_type": "code",
   "execution_count": 8,
   "id": "09e6e4f6",
   "metadata": {},
   "outputs": [
    {
     "name": "stdout",
     "output_type": "stream",
     "text": [
      "6\n",
      "6\n",
      "6\n",
      "6\n",
      "6\n",
      "6\n",
      "6\n",
      "6\n",
      "6\n",
      "6\n"
     ]
    }
   ],
   "source": [
    "for ls[0] in ls:\n",
    "    print(ls[-1])"
   ]
  },
  {
   "cell_type": "code",
   "execution_count": 9,
   "id": "6cd169f4",
   "metadata": {},
   "outputs": [
    {
     "name": "stdout",
     "output_type": "stream",
     "text": [
      "[6, 36, 11, 545, 9, 1, 3, 6, 223, 6]\n"
     ]
    }
   ],
   "source": [
    "print(ls)"
   ]
  },
  {
   "cell_type": "code",
   "execution_count": 10,
   "id": "9abd77b4",
   "metadata": {},
   "outputs": [],
   "source": [
    "ls=[25,36,11,545,9,1,3,6,223,6]"
   ]
  },
  {
   "cell_type": "code",
   "execution_count": 11,
   "id": "da1111f8",
   "metadata": {},
   "outputs": [
    {
     "name": "stdout",
     "output_type": "stream",
     "text": [
      "25\n",
      "36\n",
      "11\n",
      "545\n",
      "9\n",
      "1\n",
      "3\n",
      "6\n",
      "223\n",
      "223\n"
     ]
    }
   ],
   "source": [
    "for ls[-1] in ls:\n",
    "    print(ls[-1])"
   ]
  },
  {
   "cell_type": "code",
   "execution_count": 12,
   "id": "3b751094",
   "metadata": {},
   "outputs": [
    {
     "name": "stdout",
     "output_type": "stream",
     "text": [
      "[25, 36, 11, 545, 9, 1, 3, 6, 223, 223]\n"
     ]
    }
   ],
   "source": [
    "print(ls)"
   ]
  },
  {
   "cell_type": "code",
   "execution_count": null,
   "id": "9c935ded",
   "metadata": {},
   "outputs": [],
   "source": []
  },
  {
   "cell_type": "code",
   "execution_count": null,
   "id": "2fa4de28",
   "metadata": {},
   "outputs": [],
   "source": []
  }
 ],
 "metadata": {
  "kernelspec": {
   "display_name": "Python 3 (ipykernel)",
   "language": "python",
   "name": "python3"
  },
  "language_info": {
   "codemirror_mode": {
    "name": "ipython",
    "version": 3
   },
   "file_extension": ".py",
   "mimetype": "text/x-python",
   "name": "python",
   "nbconvert_exporter": "python",
   "pygments_lexer": "ipython3",
   "version": "3.11.4"
  }
 },
 "nbformat": 4,
 "nbformat_minor": 5
}
