{
 "cells": [
  {
   "cell_type": "markdown",
   "id": "0c761c4f",
   "metadata": {},
   "source": [
    "# zip()"
   ]
  },
  {
   "cell_type": "code",
   "execution_count": null,
   "id": "986c731e",
   "metadata": {},
   "outputs": [],
   "source": []
  },
  {
   "cell_type": "markdown",
   "id": "114e3fc4",
   "metadata": {},
   "source": [
    "# ZIP() function\n",
    "                            looping technique\n",
    "                    \n",
    "                            It is used to combine 2 or more containers/iterables.\n",
    "                            \n",
    "                            It combine the values of containers till the smaller container exists.\n",
    "                            \n",
    "                            "
   ]
  },
  {
   "cell_type": "code",
   "execution_count": 1,
   "id": "eeaf6353",
   "metadata": {},
   "outputs": [],
   "source": [
    "l0 = [25,34,56,76,87]\n",
    "l1 = [23,45,67,890,123]"
   ]
  },
  {
   "cell_type": "code",
   "execution_count": 2,
   "id": "376062db",
   "metadata": {},
   "outputs": [
    {
     "data": {
      "text/plain": [
       "<zip at 0x1b893a02480>"
      ]
     },
     "execution_count": 2,
     "metadata": {},
     "output_type": "execute_result"
    }
   ],
   "source": [
    "zip(l0,l1)"
   ]
  },
  {
   "cell_type": "code",
   "execution_count": null,
   "id": "1b68968c",
   "metadata": {},
   "outputs": [],
   "source": []
  },
  {
   "cell_type": "markdown",
   "id": "4e469b83",
   "metadata": {},
   "source": [
    "### zip function returns a object  insted of giving values, this behaviour is called Lazy Evaluation.\n",
    "\n",
    "### In object combined values are stored in form of tuple\n",
    "\n",
    "### to access values from object, we iterate on it"
   ]
  },
  {
   "cell_type": "code",
   "execution_count": null,
   "id": "d65ea08f",
   "metadata": {},
   "outputs": [],
   "source": []
  },
  {
   "cell_type": "code",
   "execution_count": 5,
   "id": "637c27e9",
   "metadata": {},
   "outputs": [],
   "source": [
    "name = ['sachin', 'ram', 'simran', 'ravi', 'priyanka']\n",
    "age = [27, 30, 26, 25, 24]\n"
   ]
  },
  {
   "cell_type": "code",
   "execution_count": 10,
   "id": "ce6f4914",
   "metadata": {
    "scrolled": true
   },
   "outputs": [
    {
     "name": "stdout",
     "output_type": "stream",
     "text": [
      "user_name : sachin\n",
      "user_age : 27\n",
      "user_name : ram\n",
      "user_age : 30\n",
      "user_name : simran\n",
      "user_age : 26\n",
      "user_name : ravi\n",
      "user_age : 25\n",
      "user_name : priyanka\n",
      "user_age : 24\n"
     ]
    }
   ],
   "source": [
    " for i in zip (name,age):\n",
    "    print('user_name',':',i[0])\n",
    "    print('user_age',':', i[1])"
   ]
  },
  {
   "cell_type": "code",
   "execution_count": null,
   "id": "4635c415",
   "metadata": {},
   "outputs": [],
   "source": []
  },
  {
   "cell_type": "code",
   "execution_count": null,
   "id": "b137fc3f",
   "metadata": {},
   "outputs": [],
   "source": [
    "names = ['sachin', 'ram', 'simran', 'ravi', 'priyanka']\n",
    "ages = [27, 30, 26, 25, 24]\n"
   ]
  },
  {
   "cell_type": "code",
   "execution_count": 12,
   "id": "ba95b037",
   "metadata": {},
   "outputs": [
    {
     "name": "stdout",
     "output_type": "stream",
     "text": [
      "user_name : sachin\n",
      "user_age : 27\n",
      "\n",
      "user_name : ram\n",
      "user_age : 30\n",
      "\n",
      "user_name : simran\n",
      "user_age : 26\n",
      "\n",
      "user_name : ravi\n",
      "user_age : 25\n",
      "\n",
      "user_name : priyanka\n",
      "user_age : 24\n",
      "\n"
     ]
    }
   ],
   "source": [
    " for i in zip (name,age):\n",
    "    print('user_name',':',i[0])\n",
    "    print('user_age',':', i[1])\n",
    "    print('')"
   ]
  },
  {
   "cell_type": "code",
   "execution_count": null,
   "id": "176c9d18",
   "metadata": {},
   "outputs": [],
   "source": []
  },
  {
   "cell_type": "code",
   "execution_count": 13,
   "id": "73d06680",
   "metadata": {},
   "outputs": [],
   "source": [
    "names = ['nitisha', 'tamanna', 'lokesh', 'rupal', 'priyanka']\n",
    "age = [22, 21, 23, 22, 23]\n",
    "course = ['python', 'aws', 'linux', 'devops', 'fullstack']"
   ]
  },
  {
   "cell_type": "code",
   "execution_count": 15,
   "id": "5127aa4d",
   "metadata": {},
   "outputs": [
    {
     "name": "stdout",
     "output_type": "stream",
     "text": [
      "User_name: nitisha,\n",
      "User_age: 22,\n",
      "course: python\n",
      "User_name: tamanna,\n",
      "User_age: 21,\n",
      "course: aws\n",
      "User_name: lokesh,\n",
      "User_age: 23,\n",
      "course: linux\n",
      "User_name: rupal,\n",
      "User_age: 22,\n",
      "course: devops\n",
      "User_name: priyanka,\n",
      "User_age: 23,\n",
      "course: fullstack\n"
     ]
    }
   ],
   "source": [
    "for i,j,k in zip(names,age,course):\n",
    "    print(f'User_name: {i},\\nUser_age: {j},\\ncourse: {k}')"
   ]
  },
  {
   "cell_type": "code",
   "execution_count": null,
   "id": "2dd1415e",
   "metadata": {},
   "outputs": [],
   "source": []
  },
  {
   "cell_type": "code",
   "execution_count": null,
   "id": "a39d5037",
   "metadata": {},
   "outputs": [],
   "source": []
  },
  {
   "cell_type": "code",
   "execution_count": 19,
   "id": "e0b6687d",
   "metadata": {},
   "outputs": [],
   "source": [
    "a = [2,3,4,5]\n",
    "b = [4,9,16,25,36]\n",
    "c = [8, 27, 64, 125, 6**3]"
   ]
  },
  {
   "cell_type": "code",
   "execution_count": null,
   "id": "0f38dad2",
   "metadata": {},
   "outputs": [],
   "source": []
  },
  {
   "cell_type": "code",
   "execution_count": 20,
   "id": "927e4860",
   "metadata": {},
   "outputs": [
    {
     "name": "stdout",
     "output_type": "stream",
     "text": [
      "(2, 4, 8)\n",
      "(3, 9, 27)\n",
      "(4, 16, 64)\n",
      "(5, 25, 125)\n"
     ]
    }
   ],
   "source": [
    "for i in zip(a,b,c):\n",
    "     print(i)"
   ]
  },
  {
   "cell_type": "code",
   "execution_count": null,
   "id": "4edc3fc2",
   "metadata": {},
   "outputs": [],
   "source": []
  },
  {
   "cell_type": "code",
   "execution_count": 3,
   "id": "957a311e",
   "metadata": {},
   "outputs": [],
   "source": [
    "d1 = {'name' : 'alfez' ,'spouse' : 'single'}"
   ]
  },
  {
   "cell_type": "code",
   "execution_count": 4,
   "id": "9bc52b19",
   "metadata": {},
   "outputs": [],
   "source": [
    "d2 = {'position' : 'engineer' ,'city' : 'jaipur'}"
   ]
  },
  {
   "cell_type": "code",
   "execution_count": 7,
   "id": "d2462d21",
   "metadata": {},
   "outputs": [
    {
     "name": "stdout",
     "output_type": "stream",
     "text": [
      "('name', 'position')\n",
      "('spouse', 'city')\n"
     ]
    }
   ],
   "source": [
    " for  i in zip (d1,d2):\n",
    "    print(i)"
   ]
  },
  {
   "cell_type": "code",
   "execution_count": 15,
   "id": "b1a19bdf",
   "metadata": {},
   "outputs": [
    {
     "name": "stdout",
     "output_type": "stream",
     "text": [
      "('position', ':hacker')\n",
      "('city', ':delhi')\n"
     ]
    }
   ],
   "source": [
    "for i in zip(d2,[':hacker', ':delhi']):\n",
    "     print(i,)"
   ]
  },
  {
   "cell_type": "code",
   "execution_count": null,
   "id": "d79245fa",
   "metadata": {},
   "outputs": [],
   "source": []
  },
  {
   "cell_type": "code",
   "execution_count": null,
   "id": "9919a572",
   "metadata": {},
   "outputs": [],
   "source": []
  },
  {
   "cell_type": "code",
   "execution_count": null,
   "id": "b85ca70a",
   "metadata": {},
   "outputs": [],
   "source": []
  },
  {
   "cell_type": "markdown",
   "id": "49d5735e",
   "metadata": {},
   "source": [
    "# enumerate() function\n",
    "                                        enumerate function loop through the containers/iterable \n",
    "                                        and return an enumerate object. In the object it contains data\n",
    "                                        in form of tuple, In tuple it stores index and value of element\n",
    "                                        "
   ]
  },
  {
   "cell_type": "code",
   "execution_count": null,
   "id": "4b79c8e0",
   "metadata": {},
   "outputs": [],
   "source": []
  },
  {
   "cell_type": "code",
   "execution_count": 22,
   "id": "b4f37bce",
   "metadata": {},
   "outputs": [],
   "source": [
    "l = ['ayan','alfez','aman','altoo']"
   ]
  },
  {
   "cell_type": "code",
   "execution_count": 24,
   "id": "eb5dbbb8",
   "metadata": {},
   "outputs": [
    {
     "name": "stdout",
     "output_type": "stream",
     "text": [
      "(0, 'ayan')\n",
      "(1, 'alfez')\n",
      "(2, 'aman')\n",
      "(3, 'altoo')\n"
     ]
    }
   ],
   "source": [
    "for i  in enumerate(l):\n",
    "    print(i)"
   ]
  },
  {
   "cell_type": "code",
   "execution_count": null,
   "id": "695d8af6",
   "metadata": {},
   "outputs": [],
   "source": []
  },
  {
   "cell_type": "code",
   "execution_count": 26,
   "id": "f33b0737",
   "metadata": {},
   "outputs": [
    {
     "name": "stdout",
     "output_type": "stream",
     "text": [
      "(-3, 'ayan')\n",
      "(-2, 'alfez')\n",
      "(-1, 'aman')\n",
      "(0, 'altoo')\n"
     ]
    }
   ],
   "source": [
    "for i  in enumerate(l,-3):\n",
    "    print(i)"
   ]
  },
  {
   "cell_type": "code",
   "execution_count": null,
   "id": "5127d4f1",
   "metadata": {},
   "outputs": [],
   "source": []
  },
  {
   "cell_type": "code",
   "execution_count": null,
   "id": "f1e01511",
   "metadata": {},
   "outputs": [],
   "source": []
  },
  {
   "cell_type": "code",
   "execution_count": null,
   "id": "e7b9c895",
   "metadata": {},
   "outputs": [],
   "source": []
  },
  {
   "cell_type": "code",
   "execution_count": null,
   "id": "9de61803",
   "metadata": {},
   "outputs": [],
   "source": []
  }
 ],
 "metadata": {
  "kernelspec": {
   "display_name": "Python 3 (ipykernel)",
   "language": "python",
   "name": "python3"
  },
  "language_info": {
   "codemirror_mode": {
    "name": "ipython",
    "version": 3
   },
   "file_extension": ".py",
   "mimetype": "text/x-python",
   "name": "python",
   "nbconvert_exporter": "python",
   "pygments_lexer": "ipython3",
   "version": "3.12.4"
  }
 },
 "nbformat": 4,
 "nbformat_minor": 5
}
