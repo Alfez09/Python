{
 "cells": [
  {
   "cell_type": "markdown",
   "id": "e1ecc1a1",
   "metadata": {},
   "source": [
    "# Operators\n",
    "\n",
    "\n",
    "                    operators are special symbol\n",
    "                    "
   ]
  },
  {
   "cell_type": "markdown",
   "id": "9c22e605",
   "metadata": {},
   "source": [
    "    operand ---> value on which you are applying operators\n",
    "    \n",
    "    operator  ---> special symbol"
   ]
  },
  {
   "cell_type": "code",
   "execution_count": null,
   "id": "cd3ac9f4",
   "metadata": {},
   "outputs": [],
   "source": []
  },
  {
   "cell_type": "markdown",
   "id": "6e8542b7",
   "metadata": {},
   "source": [
    "## Types of operators\n",
    "\n",
    "    1. Arithmetic Operator\n",
    "    \n",
    "    2. Comparison Operator / relational operator\n",
    "    \n",
    "    3. Assignment Opearator\n",
    "    \n",
    "    4. Logical Operator\n",
    "    \n",
    "    5. Membership Operator\n",
    "    \n",
    "    6. identity Operator\n",
    "    \n",
    "    7. Bitwise Operator"
   ]
  },
  {
   "cell_type": "code",
   "execution_count": null,
   "id": "8d08d205",
   "metadata": {},
   "outputs": [],
   "source": []
  },
  {
   "cell_type": "markdown",
   "id": "88d95b7e",
   "metadata": {},
   "source": [
    "## Arithmetic Operator\n",
    "\n",
    "            +   -   *   /   %   //   ** "
   ]
  },
  {
   "cell_type": "code",
   "execution_count": null,
   "id": "6a1e395a",
   "metadata": {},
   "outputs": [],
   "source": []
  },
  {
   "cell_type": "code",
   "execution_count": 2,
   "id": "97ad6f85",
   "metadata": {},
   "outputs": [],
   "source": [
    "a = 10\n",
    "b = 20"
   ]
  },
  {
   "cell_type": "code",
   "execution_count": 3,
   "id": "df130684",
   "metadata": {},
   "outputs": [
    {
     "name": "stdout",
     "output_type": "stream",
     "text": [
      "Additiona of 10 and 20: 30\n",
      "Subtraction of 10 and 20: -10\n",
      "Multiplication of 10 and 20: 200\n"
     ]
    }
   ],
   "source": [
    "print(f\"Additiona of {a} and {b}: {a+b}\")\n",
    "print(f\"Subtraction of {a} and {b}: {a-b}\")\n",
    "print(f\"Multiplication of {a} and {b}: {a*b}\")"
   ]
  },
  {
   "cell_type": "code",
   "execution_count": null,
   "id": "8c5c3220",
   "metadata": {},
   "outputs": [],
   "source": []
  },
  {
   "cell_type": "code",
   "execution_count": 4,
   "id": "ce83ef35",
   "metadata": {},
   "outputs": [
    {
     "data": {
      "text/plain": [
       "2.0"
      ]
     },
     "execution_count": 4,
     "metadata": {},
     "output_type": "execute_result"
    }
   ],
   "source": [
    "10 / 5"
   ]
  },
  {
   "cell_type": "code",
   "execution_count": null,
   "id": "0f5409ef",
   "metadata": {},
   "outputs": [],
   "source": []
  },
  {
   "cell_type": "code",
   "execution_count": 5,
   "id": "e2521cd5",
   "metadata": {},
   "outputs": [
    {
     "data": {
      "text/plain": [
       "3"
      ]
     },
     "execution_count": 5,
     "metadata": {},
     "output_type": "execute_result"
    }
   ],
   "source": [
    "33 % 5"
   ]
  },
  {
   "cell_type": "code",
   "execution_count": 6,
   "id": "ee045ab5",
   "metadata": {},
   "outputs": [
    {
     "data": {
      "text/plain": [
       "1"
      ]
     },
     "execution_count": 6,
     "metadata": {},
     "output_type": "execute_result"
    }
   ],
   "source": [
    "21 % 10"
   ]
  },
  {
   "cell_type": "code",
   "execution_count": null,
   "id": "97190f36",
   "metadata": {},
   "outputs": [],
   "source": []
  },
  {
   "cell_type": "markdown",
   "id": "c99e7b8e",
   "metadata": {},
   "source": [
    "    // --> floor div / int div"
   ]
  },
  {
   "cell_type": "code",
   "execution_count": null,
   "id": "a50d4132",
   "metadata": {},
   "outputs": [],
   "source": []
  },
  {
   "cell_type": "code",
   "execution_count": 7,
   "id": "5e741682",
   "metadata": {},
   "outputs": [
    {
     "data": {
      "text/plain": [
       "10.5"
      ]
     },
     "execution_count": 7,
     "metadata": {},
     "output_type": "execute_result"
    }
   ],
   "source": [
    "21 / 2"
   ]
  },
  {
   "cell_type": "code",
   "execution_count": 8,
   "id": "a05924be",
   "metadata": {},
   "outputs": [
    {
     "data": {
      "text/plain": [
       "10"
      ]
     },
     "execution_count": 8,
     "metadata": {},
     "output_type": "execute_result"
    }
   ],
   "source": [
    "21 // 2"
   ]
  },
  {
   "cell_type": "code",
   "execution_count": null,
   "id": "7baeb446",
   "metadata": {},
   "outputs": [],
   "source": []
  },
  {
   "cell_type": "markdown",
   "id": "ccf4e67d",
   "metadata": {},
   "source": [
    "    **   ---> power/expo."
   ]
  },
  {
   "cell_type": "code",
   "execution_count": 9,
   "id": "5128eb23",
   "metadata": {},
   "outputs": [
    {
     "data": {
      "text/plain": [
       "4"
      ]
     },
     "execution_count": 9,
     "metadata": {},
     "output_type": "execute_result"
    }
   ],
   "source": [
    "2 ** 2"
   ]
  },
  {
   "cell_type": "code",
   "execution_count": 10,
   "id": "75bbd738",
   "metadata": {},
   "outputs": [
    {
     "data": {
      "text/plain": [
       "8"
      ]
     },
     "execution_count": 10,
     "metadata": {},
     "output_type": "execute_result"
    }
   ],
   "source": [
    "2 ** 3"
   ]
  },
  {
   "cell_type": "code",
   "execution_count": null,
   "id": "72efe255",
   "metadata": {},
   "outputs": [],
   "source": []
  },
  {
   "cell_type": "markdown",
   "id": "af87b168",
   "metadata": {},
   "source": [
    "## precedence of operators\n",
    "\n",
    "    ( )\n",
    "    \n",
    "    / \n",
    "    \n",
    "    *\n",
    "    \n",
    "    +\n",
    "    \n",
    "    -"
   ]
  },
  {
   "cell_type": "code",
   "execution_count": null,
   "id": "9b068be4",
   "metadata": {},
   "outputs": [],
   "source": []
  },
  {
   "cell_type": "code",
   "execution_count": 13,
   "id": "a6e84380",
   "metadata": {},
   "outputs": [
    {
     "data": {
      "text/plain": [
       "8.5"
      ]
     },
     "execution_count": 13,
     "metadata": {},
     "output_type": "execute_result"
    }
   ],
   "source": [
    "2 + 3 *(5/2)-1"
   ]
  },
  {
   "cell_type": "code",
   "execution_count": 14,
   "id": "a275e585",
   "metadata": {},
   "outputs": [
    {
     "data": {
      "text/plain": [
       "8.5"
      ]
     },
     "execution_count": 14,
     "metadata": {},
     "output_type": "execute_result"
    }
   ],
   "source": [
    "2 + 3 * 2.5 - 1"
   ]
  },
  {
   "cell_type": "code",
   "execution_count": 15,
   "id": "af7fc66c",
   "metadata": {},
   "outputs": [
    {
     "data": {
      "text/plain": [
       "8.5"
      ]
     },
     "execution_count": 15,
     "metadata": {},
     "output_type": "execute_result"
    }
   ],
   "source": [
    "2 + 7.5 - 1"
   ]
  },
  {
   "cell_type": "code",
   "execution_count": 16,
   "id": "1dd8c17a",
   "metadata": {},
   "outputs": [
    {
     "data": {
      "text/plain": [
       "8.5"
      ]
     },
     "execution_count": 16,
     "metadata": {},
     "output_type": "execute_result"
    }
   ],
   "source": [
    "9.5 - 1"
   ]
  },
  {
   "cell_type": "code",
   "execution_count": null,
   "id": "fac2b735",
   "metadata": {},
   "outputs": [],
   "source": []
  },
  {
   "cell_type": "code",
   "execution_count": 17,
   "id": "cc45c16a",
   "metadata": {},
   "outputs": [
    {
     "data": {
      "text/plain": [
       "3.3333333333333335"
      ]
     },
     "execution_count": 17,
     "metadata": {},
     "output_type": "execute_result"
    }
   ],
   "source": [
    "2+3-5+5/3*2"
   ]
  },
  {
   "cell_type": "code",
   "execution_count": 18,
   "id": "6657ff8e",
   "metadata": {},
   "outputs": [
    {
     "data": {
      "text/plain": [
       "1.6666666666666667"
      ]
     },
     "execution_count": 18,
     "metadata": {},
     "output_type": "execute_result"
    }
   ],
   "source": [
    "5/3"
   ]
  },
  {
   "cell_type": "code",
   "execution_count": 19,
   "id": "bfcbaa0b",
   "metadata": {},
   "outputs": [
    {
     "data": {
      "text/plain": [
       "3.32"
      ]
     },
     "execution_count": 19,
     "metadata": {},
     "output_type": "execute_result"
    }
   ],
   "source": [
    "2+3-5+1.66*2"
   ]
  },
  {
   "cell_type": "code",
   "execution_count": null,
   "id": "22a4d370",
   "metadata": {},
   "outputs": [],
   "source": []
  },
  {
   "cell_type": "code",
   "execution_count": 22,
   "id": "dac425a7",
   "metadata": {},
   "outputs": [
    {
     "data": {
      "text/plain": [
       "256"
      ]
     },
     "execution_count": 22,
     "metadata": {},
     "output_type": "execute_result"
    }
   ],
   "source": [
    "2**2**3"
   ]
  },
  {
   "cell_type": "code",
   "execution_count": 20,
   "id": "d776362d",
   "metadata": {},
   "outputs": [
    {
     "data": {
      "text/plain": [
       "8"
      ]
     },
     "execution_count": 20,
     "metadata": {},
     "output_type": "execute_result"
    }
   ],
   "source": [
    "2**3"
   ]
  },
  {
   "cell_type": "code",
   "execution_count": 21,
   "id": "8ab25451",
   "metadata": {},
   "outputs": [
    {
     "data": {
      "text/plain": [
       "256"
      ]
     },
     "execution_count": 21,
     "metadata": {},
     "output_type": "execute_result"
    }
   ],
   "source": [
    "2**8"
   ]
  },
  {
   "cell_type": "code",
   "execution_count": null,
   "id": "26bc45e9",
   "metadata": {},
   "outputs": [],
   "source": []
  },
  {
   "cell_type": "markdown",
   "id": "df63ba69",
   "metadata": {},
   "source": [
    "# Comparison Operator\n",
    "                                        It is also called Relational Operator.\n",
    "                                        It returns True or False according to the condition."
   ]
  },
  {
   "cell_type": "markdown",
   "id": "aa5c2a43",
   "metadata": {},
   "source": [
    "    ==   equal to\n",
    "    \n",
    "    !=   not equal to\n",
    "\n",
    "    <    less than\n",
    "    \n",
    "    >    greater than\n",
    "    \n",
    "    <=   less than equal\n",
    "    \n",
    "    >=   greater than equal"
   ]
  },
  {
   "cell_type": "code",
   "execution_count": null,
   "id": "00fabdb1",
   "metadata": {},
   "outputs": [],
   "source": []
  },
  {
   "cell_type": "code",
   "execution_count": 23,
   "id": "ad1e3b23",
   "metadata": {},
   "outputs": [
    {
     "data": {
      "text/plain": [
       "True"
      ]
     },
     "execution_count": 23,
     "metadata": {},
     "output_type": "execute_result"
    }
   ],
   "source": [
    "2 < 3"
   ]
  },
  {
   "cell_type": "code",
   "execution_count": 24,
   "id": "821774df",
   "metadata": {},
   "outputs": [
    {
     "data": {
      "text/plain": [
       "False"
      ]
     },
     "execution_count": 24,
     "metadata": {},
     "output_type": "execute_result"
    }
   ],
   "source": [
    "2 > 4"
   ]
  },
  {
   "cell_type": "code",
   "execution_count": 25,
   "id": "d62142b4",
   "metadata": {},
   "outputs": [
    {
     "data": {
      "text/plain": [
       "False"
      ]
     },
     "execution_count": 25,
     "metadata": {},
     "output_type": "execute_result"
    }
   ],
   "source": [
    "10 == 12"
   ]
  },
  {
   "cell_type": "code",
   "execution_count": 26,
   "id": "ce66896f",
   "metadata": {},
   "outputs": [
    {
     "data": {
      "text/plain": [
       "True"
      ]
     },
     "execution_count": 26,
     "metadata": {},
     "output_type": "execute_result"
    }
   ],
   "source": [
    "10 == 10"
   ]
  },
  {
   "cell_type": "code",
   "execution_count": 27,
   "id": "d590f5dc",
   "metadata": {},
   "outputs": [
    {
     "data": {
      "text/plain": [
       "False"
      ]
     },
     "execution_count": 27,
     "metadata": {},
     "output_type": "execute_result"
    }
   ],
   "source": [
    "10 >= 12"
   ]
  },
  {
   "cell_type": "code",
   "execution_count": 28,
   "id": "ad005010",
   "metadata": {},
   "outputs": [
    {
     "data": {
      "text/plain": [
       "True"
      ]
     },
     "execution_count": 28,
     "metadata": {},
     "output_type": "execute_result"
    }
   ],
   "source": [
    "10 <= 12"
   ]
  },
  {
   "cell_type": "code",
   "execution_count": 29,
   "id": "bfd70371",
   "metadata": {},
   "outputs": [
    {
     "data": {
      "text/plain": [
       "True"
      ]
     },
     "execution_count": 29,
     "metadata": {},
     "output_type": "execute_result"
    }
   ],
   "source": [
    "20 <= 20"
   ]
  },
  {
   "cell_type": "code",
   "execution_count": 30,
   "id": "16cf7c71",
   "metadata": {},
   "outputs": [
    {
     "data": {
      "text/plain": [
       "True"
      ]
     },
     "execution_count": 30,
     "metadata": {},
     "output_type": "execute_result"
    }
   ],
   "source": [
    "10 != 20"
   ]
  },
  {
   "cell_type": "code",
   "execution_count": null,
   "id": "d0c4212c",
   "metadata": {},
   "outputs": [],
   "source": []
  },
  {
   "cell_type": "markdown",
   "id": "6fc1be0e",
   "metadata": {},
   "source": [
    "# Assignment Operator\n",
    "            Assignment operators are used to assign values to variable."
   ]
  },
  {
   "cell_type": "markdown",
   "id": "4b20b1dc",
   "metadata": {},
   "source": [
    "    =  \n",
    "    \n",
    "    +=\n",
    "    \n",
    "    -=\n",
    "    \n",
    "    *=\n",
    "    \n",
    "    /=\n",
    "    \n",
    "    **=\n",
    "    \n",
    "    %=    "
   ]
  },
  {
   "cell_type": "code",
   "execution_count": null,
   "id": "dcd928c8",
   "metadata": {},
   "outputs": [],
   "source": []
  },
  {
   "cell_type": "code",
   "execution_count": 31,
   "id": "55b3c4ef",
   "metadata": {},
   "outputs": [],
   "source": [
    "name = 'harsh'"
   ]
  },
  {
   "cell_type": "code",
   "execution_count": null,
   "id": "8a0082cd",
   "metadata": {},
   "outputs": [],
   "source": []
  },
  {
   "cell_type": "code",
   "execution_count": 32,
   "id": "c731acac",
   "metadata": {},
   "outputs": [],
   "source": [
    "a = 10\n",
    "b = 5"
   ]
  },
  {
   "cell_type": "code",
   "execution_count": 33,
   "id": "356a8729",
   "metadata": {},
   "outputs": [
    {
     "data": {
      "text/plain": [
       "10"
      ]
     },
     "execution_count": 33,
     "metadata": {},
     "output_type": "execute_result"
    }
   ],
   "source": [
    "a"
   ]
  },
  {
   "cell_type": "markdown",
   "id": "c8ab156b",
   "metadata": {},
   "source": [
    "    a += b"
   ]
  },
  {
   "cell_type": "code",
   "execution_count": 34,
   "id": "f83f3b52",
   "metadata": {},
   "outputs": [],
   "source": [
    "a = a + b"
   ]
  },
  {
   "cell_type": "code",
   "execution_count": 35,
   "id": "a90e12c5",
   "metadata": {},
   "outputs": [
    {
     "data": {
      "text/plain": [
       "15"
      ]
     },
     "execution_count": 35,
     "metadata": {},
     "output_type": "execute_result"
    }
   ],
   "source": [
    "a"
   ]
  },
  {
   "cell_type": "code",
   "execution_count": 36,
   "id": "2d9aae2a",
   "metadata": {},
   "outputs": [],
   "source": [
    "a += b   # inplace operator"
   ]
  },
  {
   "cell_type": "code",
   "execution_count": 37,
   "id": "450943c1",
   "metadata": {},
   "outputs": [
    {
     "data": {
      "text/plain": [
       "20"
      ]
     },
     "execution_count": 37,
     "metadata": {},
     "output_type": "execute_result"
    }
   ],
   "source": [
    "a"
   ]
  },
  {
   "cell_type": "code",
   "execution_count": 38,
   "id": "17f56ecc",
   "metadata": {},
   "outputs": [
    {
     "data": {
      "text/plain": [
       "20"
      ]
     },
     "execution_count": 38,
     "metadata": {},
     "output_type": "execute_result"
    }
   ],
   "source": [
    "a"
   ]
  },
  {
   "cell_type": "code",
   "execution_count": 39,
   "id": "c9bf6fab",
   "metadata": {},
   "outputs": [
    {
     "data": {
      "text/plain": [
       "5"
      ]
     },
     "execution_count": 39,
     "metadata": {},
     "output_type": "execute_result"
    }
   ],
   "source": [
    "b"
   ]
  },
  {
   "cell_type": "code",
   "execution_count": 40,
   "id": "85342350",
   "metadata": {},
   "outputs": [],
   "source": [
    "b -= a"
   ]
  },
  {
   "cell_type": "code",
   "execution_count": 41,
   "id": "621cd028",
   "metadata": {},
   "outputs": [
    {
     "data": {
      "text/plain": [
       "20"
      ]
     },
     "execution_count": 41,
     "metadata": {},
     "output_type": "execute_result"
    }
   ],
   "source": [
    "a"
   ]
  },
  {
   "cell_type": "code",
   "execution_count": 42,
   "id": "7ee27772",
   "metadata": {},
   "outputs": [
    {
     "data": {
      "text/plain": [
       "-15"
      ]
     },
     "execution_count": 42,
     "metadata": {},
     "output_type": "execute_result"
    }
   ],
   "source": [
    "b"
   ]
  },
  {
   "cell_type": "code",
   "execution_count": null,
   "id": "c2612636",
   "metadata": {},
   "outputs": [],
   "source": []
  },
  {
   "cell_type": "markdown",
   "id": "a6c330f9",
   "metadata": {},
   "source": [
    "## Logical Operators\n",
    "\n",
    "          there are three types of logical operators:\n",
    "              \n",
    "                  1. logical and\n",
    "                  \n",
    "                  2. logical or\n",
    "                  \n",
    "                  3. logical not"
   ]
  },
  {
   "cell_type": "code",
   "execution_count": null,
   "id": "a0b01725",
   "metadata": {},
   "outputs": [],
   "source": []
  },
  {
   "cell_type": "code",
   "execution_count": 43,
   "id": "60624c42",
   "metadata": {},
   "outputs": [],
   "source": [
    "a = 5\n",
    "b = 3\n",
    "c = 5"
   ]
  },
  {
   "cell_type": "code",
   "execution_count": 45,
   "id": "ab992bde",
   "metadata": {},
   "outputs": [
    {
     "data": {
      "text/plain": [
       "True"
      ]
     },
     "execution_count": 45,
     "metadata": {},
     "output_type": "execute_result"
    }
   ],
   "source": [
    "a > b and c > b"
   ]
  },
  {
   "cell_type": "code",
   "execution_count": 44,
   "id": "346ad8bf",
   "metadata": {},
   "outputs": [
    {
     "data": {
      "text/plain": [
       "True"
      ]
     },
     "execution_count": 44,
     "metadata": {},
     "output_type": "execute_result"
    }
   ],
   "source": [
    "True and True"
   ]
  },
  {
   "cell_type": "code",
   "execution_count": null,
   "id": "2ab387f7",
   "metadata": {},
   "outputs": [],
   "source": []
  },
  {
   "cell_type": "code",
   "execution_count": 46,
   "id": "5fa235e1",
   "metadata": {},
   "outputs": [
    {
     "data": {
      "text/plain": [
       "True"
      ]
     },
     "execution_count": 46,
     "metadata": {},
     "output_type": "execute_result"
    }
   ],
   "source": [
    "a == c or a == b"
   ]
  },
  {
   "cell_type": "code",
   "execution_count": 47,
   "id": "f8a9aaa0",
   "metadata": {},
   "outputs": [
    {
     "data": {
      "text/plain": [
       "False"
      ]
     },
     "execution_count": 47,
     "metadata": {},
     "output_type": "execute_result"
    }
   ],
   "source": [
    "not (a == c or a == b)"
   ]
  },
  {
   "cell_type": "code",
   "execution_count": null,
   "id": "a778f066",
   "metadata": {},
   "outputs": [],
   "source": []
  },
  {
   "cell_type": "markdown",
   "id": "e8c41dd0",
   "metadata": {},
   "source": [
    "# membership operator\n",
    "\n",
    "                                    Membership operator are used to check whether a value is present in a sequence or not. \n",
    "\n",
    "                                    there are two membership operator:-\n",
    "\n",
    "                                    in         :- returns true if value present in sequence\n",
    "\n",
    "                                    not in     :- returns true if value is not present in sequence."
   ]
  },
  {
   "cell_type": "code",
   "execution_count": null,
   "id": "9c87753e",
   "metadata": {},
   "outputs": [],
   "source": []
  },
  {
   "cell_type": "code",
   "execution_count": 48,
   "id": "646a3538",
   "metadata": {},
   "outputs": [],
   "source": [
    "ls = [23,45,56,78,89,23,45,67]"
   ]
  },
  {
   "cell_type": "code",
   "execution_count": 49,
   "id": "994bda35",
   "metadata": {},
   "outputs": [
    {
     "data": {
      "text/plain": [
       "False"
      ]
     },
     "execution_count": 49,
     "metadata": {},
     "output_type": "execute_result"
    }
   ],
   "source": [
    "100 in ls"
   ]
  },
  {
   "cell_type": "code",
   "execution_count": 50,
   "id": "b599224a",
   "metadata": {},
   "outputs": [
    {
     "data": {
      "text/plain": [
       "True"
      ]
     },
     "execution_count": 50,
     "metadata": {},
     "output_type": "execute_result"
    }
   ],
   "source": [
    "100 not in ls"
   ]
  },
  {
   "cell_type": "code",
   "execution_count": 51,
   "id": "b9e35a36",
   "metadata": {},
   "outputs": [],
   "source": [
    "names = ['anil', 'harsh', 'rohan', 'pratham', 'rahul']"
   ]
  },
  {
   "cell_type": "code",
   "execution_count": 52,
   "id": "5cbc096b",
   "metadata": {},
   "outputs": [
    {
     "data": {
      "text/plain": [
       "True"
      ]
     },
     "execution_count": 52,
     "metadata": {},
     "output_type": "execute_result"
    }
   ],
   "source": [
    "'harsh' in names"
   ]
  },
  {
   "cell_type": "code",
   "execution_count": 53,
   "id": "09ecd5aa",
   "metadata": {},
   "outputs": [
    {
     "data": {
      "text/plain": [
       "False"
      ]
     },
     "execution_count": 53,
     "metadata": {},
     "output_type": "execute_result"
    }
   ],
   "source": [
    "'sachin' in names"
   ]
  },
  {
   "cell_type": "code",
   "execution_count": null,
   "id": "4bbfacf4",
   "metadata": {},
   "outputs": [],
   "source": []
  },
  {
   "cell_type": "markdown",
   "id": "a24b772e",
   "metadata": {},
   "source": [
    "# identity operator\n",
    "                                Identity operators are used to check two values are located on same memory location or not.\n",
    "                                \n",
    "                                If two values are equal that doesn't mean they are identical.\n",
    "                                \n",
    "                                there are two identity operator\n",
    "\n",
    "                                is        :- returns True if two values are identical.\n",
    "                                \n",
    "                                is not    :- returns True if two values are not identical."
   ]
  },
  {
   "cell_type": "code",
   "execution_count": 54,
   "id": "01ad97c8",
   "metadata": {},
   "outputs": [],
   "source": [
    "a = 100\n",
    "b = 200"
   ]
  },
  {
   "cell_type": "code",
   "execution_count": 55,
   "id": "a2dcf239",
   "metadata": {},
   "outputs": [
    {
     "data": {
      "text/plain": [
       "False"
      ]
     },
     "execution_count": 55,
     "metadata": {},
     "output_type": "execute_result"
    }
   ],
   "source": [
    "a is b"
   ]
  },
  {
   "cell_type": "code",
   "execution_count": 56,
   "id": "94fa25e5",
   "metadata": {},
   "outputs": [],
   "source": [
    "i = 100\n",
    "j = 100"
   ]
  },
  {
   "cell_type": "code",
   "execution_count": 57,
   "id": "8b4ee3be",
   "metadata": {},
   "outputs": [
    {
     "data": {
      "text/plain": [
       "True"
      ]
     },
     "execution_count": 57,
     "metadata": {},
     "output_type": "execute_result"
    }
   ],
   "source": [
    "i is j"
   ]
  },
  {
   "cell_type": "code",
   "execution_count": 58,
   "id": "ec324d91",
   "metadata": {},
   "outputs": [],
   "source": [
    "i = 256\n",
    "j = 256"
   ]
  },
  {
   "cell_type": "code",
   "execution_count": 59,
   "id": "1aa36174",
   "metadata": {},
   "outputs": [
    {
     "data": {
      "text/plain": [
       "True"
      ]
     },
     "execution_count": 59,
     "metadata": {},
     "output_type": "execute_result"
    }
   ],
   "source": [
    "i is j"
   ]
  },
  {
   "cell_type": "code",
   "execution_count": 60,
   "id": "dafd2dde",
   "metadata": {},
   "outputs": [],
   "source": [
    "i = 257\n",
    "j = 257"
   ]
  },
  {
   "cell_type": "code",
   "execution_count": 61,
   "id": "c240bc6d",
   "metadata": {},
   "outputs": [
    {
     "data": {
      "text/plain": [
       "False"
      ]
     },
     "execution_count": 61,
     "metadata": {},
     "output_type": "execute_result"
    }
   ],
   "source": [
    "i is j"
   ]
  },
  {
   "cell_type": "code",
   "execution_count": null,
   "id": "52e62d8f",
   "metadata": {},
   "outputs": [],
   "source": []
  },
  {
   "cell_type": "code",
   "execution_count": null,
   "id": "e439e490",
   "metadata": {},
   "outputs": [],
   "source": []
  },
  {
   "cell_type": "code",
   "execution_count": 62,
   "id": "4f895395",
   "metadata": {},
   "outputs": [],
   "source": [
    "a = 200\n",
    "b = 206"
   ]
  },
  {
   "cell_type": "code",
   "execution_count": 63,
   "id": "c4df2b21",
   "metadata": {},
   "outputs": [
    {
     "data": {
      "text/plain": [
       "200"
      ]
     },
     "execution_count": 63,
     "metadata": {},
     "output_type": "execute_result"
    }
   ],
   "source": [
    "a"
   ]
  },
  {
   "cell_type": "code",
   "execution_count": 64,
   "id": "31d135a9",
   "metadata": {},
   "outputs": [
    {
     "data": {
      "text/plain": [
       "206"
      ]
     },
     "execution_count": 64,
     "metadata": {},
     "output_type": "execute_result"
    }
   ],
   "source": [
    "b"
   ]
  },
  {
   "cell_type": "code",
   "execution_count": 66,
   "id": "891b71bf",
   "metadata": {},
   "outputs": [
    {
     "data": {
      "text/plain": [
       "False"
      ]
     },
     "execution_count": 66,
     "metadata": {},
     "output_type": "execute_result"
    }
   ],
   "source": [
    "a is b"
   ]
  },
  {
   "cell_type": "code",
   "execution_count": 65,
   "id": "471f1947",
   "metadata": {},
   "outputs": [
    {
     "data": {
      "text/plain": [
       "206"
      ]
     },
     "execution_count": 65,
     "metadata": {},
     "output_type": "execute_result"
    }
   ],
   "source": [
    "a + 6"
   ]
  },
  {
   "cell_type": "code",
   "execution_count": 67,
   "id": "6421f958",
   "metadata": {},
   "outputs": [],
   "source": [
    "a += 6"
   ]
  },
  {
   "cell_type": "code",
   "execution_count": 68,
   "id": "0748a7c5",
   "metadata": {},
   "outputs": [
    {
     "data": {
      "text/plain": [
       "206"
      ]
     },
     "execution_count": 68,
     "metadata": {},
     "output_type": "execute_result"
    }
   ],
   "source": [
    "a"
   ]
  },
  {
   "cell_type": "code",
   "execution_count": 69,
   "id": "e94e5262",
   "metadata": {},
   "outputs": [
    {
     "data": {
      "text/plain": [
       "206"
      ]
     },
     "execution_count": 69,
     "metadata": {},
     "output_type": "execute_result"
    }
   ],
   "source": [
    "b"
   ]
  },
  {
   "cell_type": "code",
   "execution_count": 70,
   "id": "589f9d81",
   "metadata": {},
   "outputs": [
    {
     "data": {
      "text/plain": [
       "True"
      ]
     },
     "execution_count": 70,
     "metadata": {},
     "output_type": "execute_result"
    }
   ],
   "source": [
    "a is b"
   ]
  },
  {
   "cell_type": "code",
   "execution_count": null,
   "id": "1d13abda",
   "metadata": {},
   "outputs": [],
   "source": []
  },
  {
   "cell_type": "markdown",
   "id": "8c8b3786",
   "metadata": {},
   "source": [
    "## bitwise operator\n",
    "\n",
    "        1. bitwise &\n",
    "        \n",
    "        2. bitwise |\n",
    "\n",
    "        3. bitwise not /  complement ~ / tilde\n",
    "        \n",
    "        4. bitwise XOR   ^\n",
    "        \n",
    "        5. left shift   <<\n",
    "        \n",
    "        6. right shift  >>"
   ]
  },
  {
   "cell_type": "code",
   "execution_count": null,
   "id": "e0d3b389",
   "metadata": {},
   "outputs": [],
   "source": []
  },
  {
   "cell_type": "code",
   "execution_count": 1,
   "id": "c90ffd59",
   "metadata": {},
   "outputs": [
    {
     "data": {
      "text/plain": [
       "12"
      ]
     },
     "execution_count": 1,
     "metadata": {},
     "output_type": "execute_result"
    }
   ],
   "source": [
    "12 & 13"
   ]
  },
  {
   "cell_type": "code",
   "execution_count": 2,
   "id": "ba4f04d4",
   "metadata": {},
   "outputs": [
    {
     "data": {
      "text/plain": [
       "20"
      ]
     },
     "execution_count": 2,
     "metadata": {},
     "output_type": "execute_result"
    }
   ],
   "source": [
    "20 & 30"
   ]
  },
  {
   "cell_type": "code",
   "execution_count": null,
   "id": "ae975f7a",
   "metadata": {},
   "outputs": [],
   "source": []
  },
  {
   "cell_type": "code",
   "execution_count": 3,
   "id": "9902da27",
   "metadata": {},
   "outputs": [
    {
     "data": {
      "text/plain": [
       "32"
      ]
     },
     "execution_count": 3,
     "metadata": {},
     "output_type": "execute_result"
    }
   ],
   "source": [
    "32 & 50"
   ]
  },
  {
   "cell_type": "code",
   "execution_count": null,
   "id": "a7fdf732",
   "metadata": {},
   "outputs": [],
   "source": []
  },
  {
   "cell_type": "code",
   "execution_count": 4,
   "id": "1ec51c2c",
   "metadata": {},
   "outputs": [
    {
     "data": {
      "text/plain": [
       "55"
      ]
     },
     "execution_count": 4,
     "metadata": {},
     "output_type": "execute_result"
    }
   ],
   "source": [
    "20 | 35"
   ]
  },
  {
   "cell_type": "code",
   "execution_count": null,
   "id": "76457503",
   "metadata": {},
   "outputs": [],
   "source": []
  },
  {
   "cell_type": "code",
   "execution_count": 5,
   "id": "1c630f4e",
   "metadata": {},
   "outputs": [
    {
     "data": {
      "text/plain": [
       "15"
      ]
     },
     "execution_count": 5,
     "metadata": {},
     "output_type": "execute_result"
    }
   ],
   "source": [
    "5 ^ 10"
   ]
  },
  {
   "cell_type": "code",
   "execution_count": null,
   "id": "a1fd0a86",
   "metadata": {},
   "outputs": [],
   "source": []
  },
  {
   "cell_type": "code",
   "execution_count": 6,
   "id": "bab901f8",
   "metadata": {},
   "outputs": [
    {
     "data": {
      "text/plain": [
       "40"
      ]
     },
     "execution_count": 6,
     "metadata": {},
     "output_type": "execute_result"
    }
   ],
   "source": [
    "10 << 2"
   ]
  },
  {
   "cell_type": "code",
   "execution_count": 7,
   "id": "0f042141",
   "metadata": {},
   "outputs": [
    {
     "data": {
      "text/plain": [
       "40"
      ]
     },
     "execution_count": 7,
     "metadata": {},
     "output_type": "execute_result"
    }
   ],
   "source": [
    "5 << 3"
   ]
  },
  {
   "cell_type": "code",
   "execution_count": null,
   "id": "2ce7a389",
   "metadata": {},
   "outputs": [],
   "source": []
  },
  {
   "cell_type": "code",
   "execution_count": null,
   "id": "8994b787",
   "metadata": {},
   "outputs": [],
   "source": []
  },
  {
   "cell_type": "code",
   "execution_count": 8,
   "id": "c6bbaada",
   "metadata": {},
   "outputs": [
    {
     "data": {
      "text/plain": [
       "6"
      ]
     },
     "execution_count": 8,
     "metadata": {},
     "output_type": "execute_result"
    }
   ],
   "source": [
    "50 >> 3"
   ]
  },
  {
   "cell_type": "code",
   "execution_count": 9,
   "id": "fe93a871",
   "metadata": {},
   "outputs": [
    {
     "data": {
      "text/plain": [
       "0"
      ]
     },
     "execution_count": 9,
     "metadata": {},
     "output_type": "execute_result"
    }
   ],
   "source": [
    "50 >> 6"
   ]
  },
  {
   "cell_type": "code",
   "execution_count": null,
   "id": "ce43233d",
   "metadata": {},
   "outputs": [],
   "source": []
  },
  {
   "cell_type": "code",
   "execution_count": null,
   "id": "93169135",
   "metadata": {},
   "outputs": [],
   "source": []
  },
  {
   "cell_type": "code",
   "execution_count": null,
   "id": "07792ae2",
   "metadata": {},
   "outputs": [],
   "source": []
  },
  {
   "cell_type": "code",
   "execution_count": null,
   "id": "e0d276c4",
   "metadata": {},
   "outputs": [],
   "source": []
  }
 ],
 "metadata": {
  "kernelspec": {
   "display_name": "Python 3 (ipykernel)",
   "language": "python",
   "name": "python3"
  },
  "language_info": {
   "codemirror_mode": {
    "name": "ipython",
    "version": 3
   },
   "file_extension": ".py",
   "mimetype": "text/x-python",
   "name": "python",
   "nbconvert_exporter": "python",
   "pygments_lexer": "ipython3",
   "version": "3.10.9"
  }
 },
 "nbformat": 4,
 "nbformat_minor": 5
}
