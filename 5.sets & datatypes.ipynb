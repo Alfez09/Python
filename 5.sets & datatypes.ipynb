{
 "cells": [
  {
   "cell_type": "markdown",
   "id": "266e22ad",
   "metadata": {},
   "source": [
    "# sets\n",
    "\n",
    "undorderd and mutable elements"
   ]
  },
  {
   "cell_type": "markdown",
   "id": "e158b53a-5e90-4b0f-a33b-74985b656704",
   "metadata": {},
   "source": [
    "# \n",
    "# Method\tShortcut\tDescription\n",
    "add()\t \tAdds an element to the set\n",
    "clear()\t \tRemoves all the elements from the set\n",
    "copy()\t \tReturns a copy of the set\n",
    "difference()\t-\tReturns a set containing the difference between two or more sets\n",
    "difference_update()\t-=\tRemoves the items in this set that are also included in another, specified set\n",
    "discard()\t \tRemove the specified item\n",
    "intersection()\t&\tReturns a set, that is the intersection of two other sets\n",
    "intersection_update()\t&=\tRemoves the items in this set that are not present in other, specified set(s)\n",
    "isdisjoint()\t \tReturns whether two sets have a intersection or not\n",
    "issubset()\t<=\tReturns whether another set contains this set or not\n",
    " \t<\tReturns whether all items in this set is present in other, specified set(s)\n",
    "issuperset()\t>=\tReturns whether this set contains another set or not\n",
    " \t>\tReturns whether all items in other, specified set(s) is present in this set\n",
    "pop()\t \tRemoves an element from the set\n",
    "remove()\t \tRemoves the specified element\n",
    "symmetric_difference()\t^\tReturns a set with the symmetric differences of two sets\n",
    "symmetric_difference_update()\t^=\tInserts the symmetric differences from this set and another\n",
    "union()\t|\tReturn a set containing the union of sets\n",
    "update()\t|=\tUpdate the set with the union of this set and others"
   ]
  },
  {
   "cell_type": "code",
   "execution_count": 1,
   "id": "c7a67c03",
   "metadata": {},
   "outputs": [],
   "source": [
    "s1={1,34,25,6,7,34}"
   ]
  },
  {
   "cell_type": "code",
   "execution_count": null,
   "id": "d5e6b0fe-06a5-44a6-92aa-d3257eed88d8",
   "metadata": {},
   "outputs": [],
   "source": []
  },
  {
   "cell_type": "code",
   "execution_count": 2,
   "id": "da2deffc",
   "metadata": {},
   "outputs": [
    {
     "name": "stdout",
     "output_type": "stream",
     "text": [
      "<class 'set'>\n"
     ]
    }
   ],
   "source": [
    "print(type(s1))"
   ]
  },
  {
   "cell_type": "code",
   "execution_count": 3,
   "id": "ca3d2dbf",
   "metadata": {},
   "outputs": [
    {
     "name": "stdout",
     "output_type": "stream",
     "text": [
      "{1, 34, 6, 7, 25}\n"
     ]
    }
   ],
   "source": [
    "print(s1)"
   ]
  },
  {
   "cell_type": "code",
   "execution_count": 5,
   "id": "e466fce5",
   "metadata": {},
   "outputs": [
    {
     "ename": "TypeError",
     "evalue": "'set' object is not subscriptable",
     "output_type": "error",
     "traceback": [
      "\u001b[1;31m---------------------------------------------------------------------------\u001b[0m",
      "\u001b[1;31mTypeError\u001b[0m                                 Traceback (most recent call last)",
      "Cell \u001b[1;32mIn[5], line 1\u001b[0m\n\u001b[1;32m----> 1\u001b[0m s1[\u001b[38;5;241m26\u001b[39m]\n",
      "\u001b[1;31mTypeError\u001b[0m: 'set' object is not subscriptable"
     ]
    }
   ],
   "source": [
    "s1[26]"
   ]
  },
  {
   "cell_type": "code",
   "execution_count": null,
   "id": "2949b9d5",
   "metadata": {},
   "outputs": [],
   "source": []
  },
  {
   "cell_type": "code",
   "execution_count": 6,
   "id": "fa97df12",
   "metadata": {},
   "outputs": [
    {
     "name": "stdout",
     "output_type": "stream",
     "text": [
      "['add', 'clear', 'copy', 'difference', 'difference_update', 'discard', 'intersection', 'intersection_update', 'isdisjoint', 'issubset', 'issuperset', 'pop', 'remove', 'symmetric_difference', 'symmetric_difference_update', 'union', 'update']\n"
     ]
    }
   ],
   "source": [
    "print([i for i in dir(set)if not i.startswith('_')])"
   ]
  },
  {
   "cell_type": "code",
   "execution_count": null,
   "id": "830eb92f",
   "metadata": {},
   "outputs": [],
   "source": []
  },
  {
   "cell_type": "code",
   "execution_count": 11,
   "id": "8e3fe100",
   "metadata": {},
   "outputs": [],
   "source": [
    "s0={25,63,3,78,5,1,56,22,23,6,58,45}"
   ]
  },
  {
   "cell_type": "code",
   "execution_count": 12,
   "id": "97d89e88",
   "metadata": {},
   "outputs": [],
   "source": [
    "s0.add(100)"
   ]
  },
  {
   "cell_type": "code",
   "execution_count": 13,
   "id": "8a1d4e31",
   "metadata": {},
   "outputs": [
    {
     "data": {
      "text/plain": [
       "{1, 3, 5, 6, 22, 23, 25, 45, 56, 58, 63, 78, 100}"
      ]
     },
     "execution_count": 13,
     "metadata": {},
     "output_type": "execute_result"
    }
   ],
   "source": [
    "s0"
   ]
  },
  {
   "cell_type": "code",
   "execution_count": 14,
   "id": "d0b4f6b2",
   "metadata": {},
   "outputs": [],
   "source": [
    "s0.update([100,56,63,78])"
   ]
  },
  {
   "cell_type": "code",
   "execution_count": 15,
   "id": "0b8b18af",
   "metadata": {},
   "outputs": [
    {
     "data": {
      "text/plain": [
       "{1, 3, 5, 6, 22, 23, 25, 45, 56, 58, 63, 78, 100}"
      ]
     },
     "execution_count": 15,
     "metadata": {},
     "output_type": "execute_result"
    }
   ],
   "source": [
    "s0"
   ]
  },
  {
   "cell_type": "code",
   "execution_count": 16,
   "id": "e44a45e8",
   "metadata": {},
   "outputs": [],
   "source": [
    "s0.remove(100)"
   ]
  },
  {
   "cell_type": "markdown",
   "id": "f9a75f59",
   "metadata": {},
   "source": [
    "s0.remove(100)"
   ]
  },
  {
   "cell_type": "code",
   "execution_count": 17,
   "id": "ae3a12fe",
   "metadata": {},
   "outputs": [
    {
     "data": {
      "text/plain": [
       "{1, 3, 5, 6, 22, 23, 25, 45, 56, 58, 63, 78}"
      ]
     },
     "execution_count": 17,
     "metadata": {},
     "output_type": "execute_result"
    }
   ],
   "source": [
    "s0"
   ]
  },
  {
   "cell_type": "code",
   "execution_count": null,
   "id": "1ee644b4",
   "metadata": {},
   "outputs": [],
   "source": []
  },
  {
   "cell_type": "code",
   "execution_count": 18,
   "id": "70f6d16c",
   "metadata": {},
   "outputs": [
    {
     "data": {
      "text/plain": [
       "1"
      ]
     },
     "execution_count": 18,
     "metadata": {},
     "output_type": "execute_result"
    }
   ],
   "source": [
    "s0.pop()"
   ]
  },
  {
   "cell_type": "code",
   "execution_count": 19,
   "id": "01b4e216",
   "metadata": {},
   "outputs": [
    {
     "data": {
      "text/plain": [
       "3"
      ]
     },
     "execution_count": 19,
     "metadata": {},
     "output_type": "execute_result"
    }
   ],
   "source": [
    "s0.pop()"
   ]
  },
  {
   "cell_type": "code",
   "execution_count": 20,
   "id": "ce052f92",
   "metadata": {},
   "outputs": [],
   "source": [
    "s11={52,68,21,14,52,69,31,53,82 }\n",
    "s12={1,52,41,33,36,1,25,21}\n",
    "s13={59,2128,1,33,14,51,13,38}\n"
   ]
  },
  {
   "cell_type": "code",
   "execution_count": null,
   "id": "41b7a2ad",
   "metadata": {},
   "outputs": [],
   "source": []
  },
  {
   "cell_type": "code",
   "execution_count": 21,
   "id": "60b7a2e8",
   "metadata": {},
   "outputs": [
    {
     "name": "stdout",
     "output_type": "stream",
     "text": [
      "{1, 68, 69, 13, 14, 2128, 82, 21, 25, 31, 33, 36, 38, 41, 51, 52, 53, 59}\n"
     ]
    }
   ],
   "source": [
    "print(s11.union(s12,s13))"
   ]
  },
  {
   "cell_type": "code",
   "execution_count": 22,
   "id": "d61ec82a",
   "metadata": {},
   "outputs": [
    {
     "name": "stdout",
     "output_type": "stream",
     "text": [
      "{52, 21}\n"
     ]
    }
   ],
   "source": [
    "print(s12.intersection(s11,s12))"
   ]
  },
  {
   "cell_type": "code",
   "execution_count": 23,
   "id": "cc4a520a",
   "metadata": {},
   "outputs": [
    {
     "data": {
      "text/plain": [
       "{5, 6, 22, 23, 25, 45, 56, 58, 63, 78}"
      ]
     },
     "execution_count": 23,
     "metadata": {},
     "output_type": "execute_result"
    }
   ],
   "source": [
    "s0"
   ]
  },
  {
   "cell_type": "code",
   "execution_count": 24,
   "id": "ce0ef97f",
   "metadata": {},
   "outputs": [
    {
     "data": {
      "text/plain": [
       "{1, 6, 7, 25, 34}"
      ]
     },
     "execution_count": 24,
     "metadata": {},
     "output_type": "execute_result"
    }
   ],
   "source": [
    "s1"
   ]
  },
  {
   "cell_type": "code",
   "execution_count": 25,
   "id": "680f203b",
   "metadata": {},
   "outputs": [
    {
     "data": {
      "text/plain": [
       "False"
      ]
     },
     "execution_count": 25,
     "metadata": {},
     "output_type": "execute_result"
    }
   ],
   "source": [
    "s0.isdisjoint(s1)"
   ]
  },
  {
   "cell_type": "code",
   "execution_count": 26,
   "id": "87673c27",
   "metadata": {},
   "outputs": [
    {
     "data": {
      "text/plain": [
       "False"
      ]
     },
     "execution_count": 26,
     "metadata": {},
     "output_type": "execute_result"
    }
   ],
   "source": [
    "s1.isdisjoint(s0)"
   ]
  },
  {
   "cell_type": "code",
   "execution_count": 27,
   "id": "65b0e54f",
   "metadata": {},
   "outputs": [
    {
     "data": {
      "text/plain": [
       "False"
      ]
     },
     "execution_count": 27,
     "metadata": {},
     "output_type": "execute_result"
    }
   ],
   "source": [
    "s0.issubset(s1)"
   ]
  },
  {
   "cell_type": "code",
   "execution_count": 28,
   "id": "3e2500b1",
   "metadata": {},
   "outputs": [
    {
     "data": {
      "text/plain": [
       "False"
      ]
     },
     "execution_count": 28,
     "metadata": {},
     "output_type": "execute_result"
    }
   ],
   "source": [
    "s1.issuperset(s0)"
   ]
  },
  {
   "cell_type": "code",
   "execution_count": 29,
   "id": "80fccc63",
   "metadata": {},
   "outputs": [],
   "source": [
    "s0.discard(6)"
   ]
  },
  {
   "cell_type": "code",
   "execution_count": 30,
   "id": "2f678dd7",
   "metadata": {},
   "outputs": [
    {
     "data": {
      "text/plain": [
       "{5, 22, 23, 25, 45, 56, 58, 63, 78}"
      ]
     },
     "execution_count": 30,
     "metadata": {},
     "output_type": "execute_result"
    }
   ],
   "source": [
    "s0"
   ]
  },
  {
   "cell_type": "code",
   "execution_count": 31,
   "id": "71fd87fc",
   "metadata": {},
   "outputs": [],
   "source": [
    "s1={1,34,25,6,7,34}"
   ]
  },
  {
   "cell_type": "code",
   "execution_count": 32,
   "id": "ca6e16b4",
   "metadata": {},
   "outputs": [
    {
     "data": {
      "text/plain": [
       "{5, 22, 23, 45, 56, 58, 63, 78}"
      ]
     },
     "execution_count": 32,
     "metadata": {},
     "output_type": "execute_result"
    }
   ],
   "source": [
    "s0.difference(s1)"
   ]
  },
  {
   "cell_type": "code",
   "execution_count": 33,
   "id": "f0c60b3e",
   "metadata": {},
   "outputs": [],
   "source": [
    "s1={1,34,25,6,7,34}"
   ]
  },
  {
   "cell_type": "code",
   "execution_count": 34,
   "id": "f3a55ae8",
   "metadata": {},
   "outputs": [],
   "source": [
    "s1.difference_update(s0)"
   ]
  },
  {
   "cell_type": "code",
   "execution_count": 45,
   "id": "0ce8a613",
   "metadata": {},
   "outputs": [
    {
     "data": {
      "text/plain": [
       "{1, 6, 7, 34}"
      ]
     },
     "execution_count": 45,
     "metadata": {},
     "output_type": "execute_result"
    }
   ],
   "source": [
    "s1"
   ]
  },
  {
   "cell_type": "code",
   "execution_count": 48,
   "id": "d9b6b6a6",
   "metadata": {},
   "outputs": [
    {
     "data": {
      "text/plain": [
       "{1, 5, 6, 7, 22, 23, 25, 34, 45, 56, 58, 63, 78}"
      ]
     },
     "execution_count": 48,
     "metadata": {},
     "output_type": "execute_result"
    }
   ],
   "source": [
    "s0.symmetric_difference(s1)"
   ]
  },
  {
   "cell_type": "code",
   "execution_count": 51,
   "id": "5ae1c9f0",
   "metadata": {},
   "outputs": [],
   "source": [
    "s0.symmetric_difference_update(s1)"
   ]
  },
  {
   "cell_type": "code",
   "execution_count": 52,
   "id": "0d6574d8",
   "metadata": {},
   "outputs": [
    {
     "data": {
      "text/plain": [
       "{1, 6, 7, 34}"
      ]
     },
     "execution_count": 52,
     "metadata": {},
     "output_type": "execute_result"
    }
   ],
   "source": [
    "s0"
   ]
  },
  {
   "cell_type": "code",
   "execution_count": null,
   "id": "304998fe",
   "metadata": {},
   "outputs": [],
   "source": []
  }
 ],
 "metadata": {
  "kernelspec": {
   "display_name": "Python 3 (ipykernel)",
   "language": "python",
   "name": "python3"
  },
  "language_info": {
   "codemirror_mode": {
    "name": "ipython",
    "version": 3
   },
   "file_extension": ".py",
   "mimetype": "text/x-python",
   "name": "python",
   "nbconvert_exporter": "python",
   "pygments_lexer": "ipython3",
   "version": "3.12.4"
  }
 },
 "nbformat": 4,
 "nbformat_minor": 5
}
