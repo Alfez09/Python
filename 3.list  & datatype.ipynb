{
 "cells": [
  {
   "cell_type": "markdown",
   "id": "9746cddb",
   "metadata": {},
   "source": [
    "## list datatype:"
   ]
  },
  {
   "cell_type": "code",
   "execution_count": 1,
   "id": "e71d255d",
   "metadata": {},
   "outputs": [
    {
     "name": "stdout",
     "output_type": "stream",
     "text": [
      "['append', 'clear', 'copy', 'count', 'extend', 'index', 'insert', 'pop', 'remove', 'reverse', 'sort']\n"
     ]
    }
   ],
   "source": [
    "print([i for i in dir(list) if not i.startswith('_')])"
   ]
  },
  {
   "cell_type": "code",
   "execution_count": 9,
   "id": "c71342e6",
   "metadata": {},
   "outputs": [],
   "source": [
    " ls=[25,36,56,59,46,27,25,56,100,36,59]"
   ]
  },
  {
   "cell_type": "code",
   "execution_count": null,
   "id": "ae87d4aa",
   "metadata": {},
   "outputs": [],
   "source": []
  },
  {
   "cell_type": "code",
   "execution_count": 14,
   "id": "36784880",
   "metadata": {},
   "outputs": [],
   "source": [
    "ls.clear()"
   ]
  },
  {
   "cell_type": "code",
   "execution_count": 8,
   "id": "6bbe8286",
   "metadata": {},
   "outputs": [],
   "source": [
    " ls=[25,36,56,59,46,27,25,56,100,36,59]"
   ]
  },
  {
   "cell_type": "code",
   "execution_count": 9,
   "id": "7e00d1c7",
   "metadata": {},
   "outputs": [],
   "source": [
    "ls.insert(2,'alfez')"
   ]
  },
  {
   "cell_type": "code",
   "execution_count": 10,
   "id": "06eaf361",
   "metadata": {},
   "outputs": [
    {
     "name": "stdout",
     "output_type": "stream",
     "text": [
      "[25, 36, 'alfez', 56, 59, 46, 27, 25, 56, 100, 36, 59]\n"
     ]
    }
   ],
   "source": [
    "print(ls)"
   ]
  },
  {
   "cell_type": "code",
   "execution_count": 49,
   "id": "2cfb2298",
   "metadata": {},
   "outputs": [],
   "source": [
    " ls0=[25,36,56,59,46,27,25,56,100,36,59]"
   ]
  },
  {
   "cell_type": "code",
   "execution_count": 50,
   "id": "da5773c0",
   "metadata": {},
   "outputs": [
    {
     "data": {
      "text/plain": [
       "59"
      ]
     },
     "execution_count": 50,
     "metadata": {},
     "output_type": "execute_result"
    }
   ],
   "source": [
    "ls0.pop(-1)"
   ]
  },
  {
   "cell_type": "code",
   "execution_count": 44,
   "id": "b8996d0f",
   "metadata": {},
   "outputs": [],
   "source": [
    "ls1=['alfez', 'ayan',25,36,25,63,95,3,5]"
   ]
  },
  {
   "cell_type": "code",
   "execution_count": 45,
   "id": "3b9491d8",
   "metadata": {
    "scrolled": false
   },
   "outputs": [],
   "source": [
    "ls1.remove(63)"
   ]
  },
  {
   "cell_type": "code",
   "execution_count": 46,
   "id": "3ff9f9e7",
   "metadata": {},
   "outputs": [
    {
     "name": "stdout",
     "output_type": "stream",
     "text": [
      "['alfez', 'ayan', 25, 36, 25, 95, 3, 5]\n"
     ]
    }
   ],
   "source": [
    "print(ls1)"
   ]
  },
  {
   "cell_type": "code",
   "execution_count": null,
   "id": "0b2fdd73",
   "metadata": {},
   "outputs": [],
   "source": []
  },
  {
   "cell_type": "code",
   "execution_count": null,
   "id": "c00101ae",
   "metadata": {},
   "outputs": [],
   "source": []
  },
  {
   "cell_type": "code",
   "execution_count": 51,
   "id": "28ccd6e0",
   "metadata": {},
   "outputs": [],
   "source": [
    "ls0=[25,36,56,59,46,27,25,56,100,36,59]"
   ]
  },
  {
   "cell_type": "code",
   "execution_count": 55,
   "id": "1bbd58da",
   "metadata": {},
   "outputs": [
    {
     "data": {
      "text/plain": [
       "2"
      ]
     },
     "execution_count": 55,
     "metadata": {},
     "output_type": "execute_result"
    }
   ],
   "source": [
    "ls0.count(56)"
   ]
  },
  {
   "cell_type": "code",
   "execution_count": 12,
   "id": "4c43a16d",
   "metadata": {},
   "outputs": [],
   "source": [
    "ls1=['alfez', 'ayan',25,36,25,63,95,3,5] "
   ]
  },
  {
   "cell_type": "code",
   "execution_count": 13,
   "id": "7867ac85",
   "metadata": {},
   "outputs": [],
   "source": [
    "ls1.reverse()"
   ]
  },
  {
   "cell_type": "code",
   "execution_count": 18,
   "id": "ac9b3486",
   "metadata": {},
   "outputs": [
    {
     "data": {
      "text/plain": [
       "[5, 3, 95, 63, 25, 36, 25, 'ayan', 'alfez']"
      ]
     },
     "execution_count": 18,
     "metadata": {},
     "output_type": "execute_result"
    }
   ],
   "source": [
    "ls1"
   ]
  },
  {
   "cell_type": "code",
   "execution_count": 2,
   "id": "988e3214",
   "metadata": {},
   "outputs": [],
   "source": [
    " ls0=[25,36,56,46,27,56,100,59]"
   ]
  },
  {
   "cell_type": "code",
   "execution_count": 3,
   "id": "f898b182",
   "metadata": {},
   "outputs": [],
   "source": [
    "ls0.sort()"
   ]
  },
  {
   "cell_type": "code",
   "execution_count": 4,
   "id": "d2cc7d16",
   "metadata": {},
   "outputs": [
    {
     "name": "stdout",
     "output_type": "stream",
     "text": [
      "[25, 27, 36, 46, 56, 56, 59, 100]\n"
     ]
    }
   ],
   "source": [
    "print(ls0)"
   ]
  },
  {
   "cell_type": "code",
   "execution_count": 7,
   "id": "349c0280",
   "metadata": {},
   "outputs": [],
   "source": [
    "ls0.sort(reverse=True)"
   ]
  },
  {
   "cell_type": "code",
   "execution_count": 8,
   "id": "c6e3d58f",
   "metadata": {},
   "outputs": [
    {
     "name": "stdout",
     "output_type": "stream",
     "text": [
      "[100, 59, 56, 56, 46, 36, 27, 25]\n"
     ]
    }
   ],
   "source": [
    "print(ls0)"
   ]
  },
  {
   "cell_type": "markdown",
   "id": "85cf16c1",
   "metadata": {},
   "source": [
    "## nested_list()"
   ]
  },
  {
   "cell_type": "code",
   "execution_count": 6,
   "id": "1cb23867",
   "metadata": {},
   "outputs": [],
   "source": [
    "nested_list=[[1,2,4]\n",
    "    ,[65,56,98]\n",
    "    ,[52,12,45]\n",
    "    ]"
   ]
  },
  {
   "cell_type": "code",
   "execution_count": 7,
   "id": "d617680c",
   "metadata": {},
   "outputs": [
    {
     "name": "stdout",
     "output_type": "stream",
     "text": [
      "[[1, 2, 4], [65, 56, 98], [52, 12, 45]]\n"
     ]
    }
   ],
   "source": [
    "print(nested_list)"
   ]
  },
  {
   "cell_type": "code",
   "execution_count": null,
   "id": "029f5b64",
   "metadata": {},
   "outputs": [],
   "source": []
  },
  {
   "cell_type": "code",
   "execution_count": 8,
   "id": "f42afc77",
   "metadata": {},
   "outputs": [
    {
     "data": {
      "text/plain": [
       "[52, 12, 45]"
      ]
     },
     "execution_count": 8,
     "metadata": {},
     "output_type": "execute_result"
    }
   ],
   "source": [
    "nested_list[2]"
   ]
  },
  {
   "cell_type": "code",
   "execution_count": 9,
   "id": "b63abdec",
   "metadata": {},
   "outputs": [
    {
     "data": {
      "text/plain": [
       "12"
      ]
     },
     "execution_count": 9,
     "metadata": {},
     "output_type": "execute_result"
    }
   ],
   "source": [
    "nested_list[2][1]"
   ]
  },
  {
   "cell_type": "code",
   "execution_count": 10,
   "id": "5c8b6f28",
   "metadata": {},
   "outputs": [
    {
     "data": {
      "text/plain": [
       "2"
      ]
     },
     "execution_count": 10,
     "metadata": {},
     "output_type": "execute_result"
    }
   ],
   "source": [
    "nested_list[0][-2]"
   ]
  },
  {
   "cell_type": "code",
   "execution_count": null,
   "id": "8ff7567f",
   "metadata": {},
   "outputs": [],
   "source": []
  },
  {
   "cell_type": "code",
   "execution_count": 11,
   "id": "004d8049",
   "metadata": {},
   "outputs": [],
   "source": [
    "nested_list.append([14,59,63])"
   ]
  },
  {
   "cell_type": "code",
   "execution_count": 12,
   "id": "86e4bf3e",
   "metadata": {},
   "outputs": [
    {
     "name": "stdout",
     "output_type": "stream",
     "text": [
      "[[1, 2, 4], [65, 56, 98], [52, 12, 45], [14, 59, 63]]\n"
     ]
    }
   ],
   "source": [
    "print(nested_list)"
   ]
  },
  {
   "cell_type": "code",
   "execution_count": 13,
   "id": "cd50dac0",
   "metadata": {},
   "outputs": [],
   "source": [
    "nested_list.extend([[14,59,63],[52,89,70]])"
   ]
  },
  {
   "cell_type": "code",
   "execution_count": 14,
   "id": "a40e5c2c",
   "metadata": {},
   "outputs": [
    {
     "name": "stdout",
     "output_type": "stream",
     "text": [
      "[[1, 2, 4], [65, 56, 98], [52, 12, 45], [14, 59, 63], [14, 59, 63], [52, 89, 70]]\n"
     ]
    }
   ],
   "source": [
    "print(nested_list)"
   ]
  },
  {
   "cell_type": "code",
   "execution_count": 20,
   "id": "3de8c7a1",
   "metadata": {},
   "outputs": [],
   "source": [
    "ls0=[25,36,56,46,27,56,100,59]"
   ]
  },
  {
   "cell_type": "code",
   "execution_count": 21,
   "id": "8fc5e311",
   "metadata": {},
   "outputs": [
    {
     "data": {
      "text/plain": [
       "[25, 36, 56, 46, 27, 56, 100, 59]"
      ]
     },
     "execution_count": 21,
     "metadata": {},
     "output_type": "execute_result"
    }
   ],
   "source": [
    "ls0"
   ]
  },
  {
   "cell_type": "code",
   "execution_count": 22,
   "id": "3bae13ec",
   "metadata": {
    "scrolled": true
   },
   "outputs": [
    {
     "data": {
      "text/plain": [
       "56"
      ]
     },
     "execution_count": 22,
     "metadata": {},
     "output_type": "execute_result"
    }
   ],
   "source": [
    "ls0[5]"
   ]
  },
  {
   "cell_type": "code",
   "execution_count": 23,
   "id": "7154ec71",
   "metadata": {},
   "outputs": [
    {
     "data": {
      "text/plain": [
       "[25, 36, 56, 46, 27, 56, 100, 59]"
      ]
     },
     "execution_count": 23,
     "metadata": {},
     "output_type": "execute_result"
    }
   ],
   "source": [
    "ls0"
   ]
  },
  {
   "cell_type": "code",
   "execution_count": 24,
   "id": "50a7c384",
   "metadata": {},
   "outputs": [],
   "source": [
    "ls0[7]=88"
   ]
  },
  {
   "cell_type": "code",
   "execution_count": 25,
   "id": "43d32f46",
   "metadata": {},
   "outputs": [
    {
     "data": {
      "text/plain": [
       "[25, 36, 56, 46, 27, 56, 100, 88]"
      ]
     },
     "execution_count": 25,
     "metadata": {},
     "output_type": "execute_result"
    }
   ],
   "source": [
    "ls0"
   ]
  },
  {
   "cell_type": "code",
   "execution_count": 26,
   "id": "0e03aa6b",
   "metadata": {},
   "outputs": [
    {
     "data": {
      "text/plain": [
       "[[1, 2, 4],\n",
       " [65, 56, 98],\n",
       " [52, 12, 45],\n",
       " [14, 59, 63],\n",
       " [14, 59, 63],\n",
       " [52, 89, 70]]"
      ]
     },
     "execution_count": 26,
     "metadata": {},
     "output_type": "execute_result"
    }
   ],
   "source": [
    "nested_list"
   ]
  },
  {
   "cell_type": "code",
   "execution_count": 27,
   "id": "06f89393",
   "metadata": {},
   "outputs": [
    {
     "name": "stdout",
     "output_type": "stream",
     "text": [
      "[[1, 2, 4], [65, 56, 98], [52, 12, 45], [14, 59, 63], [14, 59, 63], [52, 89, 70]]\n"
     ]
    }
   ],
   "source": [
    "print(nested_list)"
   ]
  },
  {
   "cell_type": "code",
   "execution_count": null,
   "id": "6211e12f",
   "metadata": {},
   "outputs": [],
   "source": []
  },
  {
   "cell_type": "code",
   "execution_count": 28,
   "id": "587c9a0c",
   "metadata": {},
   "outputs": [],
   "source": [
    "nested_list[2]='storm'"
   ]
  },
  {
   "cell_type": "code",
   "execution_count": 29,
   "id": "f51bcca8",
   "metadata": {},
   "outputs": [
    {
     "name": "stdout",
     "output_type": "stream",
     "text": [
      "[[1, 2, 4], [65, 56, 98], 'storm', [14, 59, 63], [14, 59, 63], [52, 89, 70]]\n"
     ]
    }
   ],
   "source": [
    "print(nested_list)"
   ]
  },
  {
   "cell_type": "code",
   "execution_count": null,
   "id": "af13491a",
   "metadata": {},
   "outputs": [],
   "source": []
  },
  {
   "cell_type": "code",
   "execution_count": 31,
   "id": "7ab8e424",
   "metadata": {},
   "outputs": [
    {
     "name": "stdout",
     "output_type": "stream",
     "text": [
      "<class 'list'> [[1, 2, 4], [65, 56, 98], 'storm', [14, 59, 63], [14, 59, 63], [52, 89, 70]]\n"
     ]
    }
   ],
   "source": [
    "print(type(nested_list),(nested_list))"
   ]
  },
  {
   "cell_type": "code",
   "execution_count": null,
   "id": "e5fb7c6d",
   "metadata": {},
   "outputs": [],
   "source": []
  },
  {
   "cell_type": "code",
   "execution_count": null,
   "id": "a91b3213",
   "metadata": {},
   "outputs": [],
   "source": []
  },
  {
   "cell_type": "code",
   "execution_count": null,
   "id": "a3827718",
   "metadata": {},
   "outputs": [],
   "source": []
  }
 ],
 "metadata": {
  "kernelspec": {
   "display_name": "Python 3 (ipykernel)",
   "language": "python",
   "name": "python3"
  },
  "language_info": {
   "codemirror_mode": {
    "name": "ipython",
    "version": 3
   },
   "file_extension": ".py",
   "mimetype": "text/x-python",
   "name": "python",
   "nbconvert_exporter": "python",
   "pygments_lexer": "ipython3",
   "version": "3.11.4"
  }
 },
 "nbformat": 4,
 "nbformat_minor": 5
}
